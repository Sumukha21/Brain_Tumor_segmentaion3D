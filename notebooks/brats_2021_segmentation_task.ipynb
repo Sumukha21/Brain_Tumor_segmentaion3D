{
  "metadata": {
    "kernelspec": {
      "language": "python",
      "display_name": "Python 3",
      "name": "python3"
    },
    "language_info": {
      "name": "python",
      "version": "3.7.12",
      "mimetype": "text/x-python",
      "codemirror_mode": {
        "name": "ipython",
        "version": 3
      },
      "pygments_lexer": "ipython3",
      "nbconvert_exporter": "python",
      "file_extension": ".py"
    },
    "colab": {
      "provenance": [],
      "collapsed_sections": [
        "Nac3cIwdJREi",
        "QjNnUhM-Es49",
        "V56L5n-vEs4-",
        "Q0MPK_XPEs5A",
        "6M_lpOFcRsJz",
        "U6uSCt9REs5B",
        "gMJthQ9gEs5B",
        "Pr3GqZQWEs5C",
        "te44s1acQy1x",
        "oOQAU2eqWPBJ",
        "kcwORuCbKMqH"
      ]
    },
    "accelerator": "GPU",
    "gpuClass": "standard",
    "widgets": {
      "application/vnd.jupyter.widget-state+json": {
        "b98efe1a2cde4e9f88dbea3c63035b00": {
          "model_module": "@jupyter-widgets/controls",
          "model_name": "VBoxModel",
          "model_module_version": "2.0.0",
          "state": {
            "_dom_classes": [
              "widget-interact"
            ],
            "_model_module": "@jupyter-widgets/controls",
            "_model_module_version": "2.0.0",
            "_model_name": "VBoxModel",
            "_view_count": null,
            "_view_module": "@jupyter-widgets/controls",
            "_view_module_version": "2.0.0",
            "_view_name": "VBoxView",
            "box_style": "",
            "children": [
              "IPY_MODEL_efd77283973746118ca66baaa1d1fe62",
              "IPY_MODEL_f389f7030a234cca8c231fd818a7b1de"
            ],
            "layout": "IPY_MODEL_9169defeaf134a9183e6d5200645ef1d",
            "tabbable": null,
            "tooltip": null
          }
        },
        "efd77283973746118ca66baaa1d1fe62": {
          "model_module": "@jupyter-widgets/controls",
          "model_name": "IntSliderModel",
          "model_module_version": "2.0.0",
          "state": {
            "_dom_classes": [],
            "_model_module": "@jupyter-widgets/controls",
            "_model_module_version": "2.0.0",
            "_model_name": "IntSliderModel",
            "_view_count": null,
            "_view_module": "@jupyter-widgets/controls",
            "_view_module_version": "2.0.0",
            "_view_name": "IntSliderView",
            "behavior": "drag-tap",
            "continuous_update": true,
            "description": "layer",
            "description_allow_html": false,
            "disabled": false,
            "layout": "IPY_MODEL_bd42b847b9d94c0891d9f5a2968782d6",
            "max": 143,
            "min": 0,
            "orientation": "horizontal",
            "readout": true,
            "readout_format": "d",
            "step": 1,
            "style": "IPY_MODEL_e7cf8ee3ba0b4eeaaea024f350fa9ee8",
            "tabbable": null,
            "tooltip": null,
            "value": 90
          }
        },
        "f389f7030a234cca8c231fd818a7b1de": {
          "model_module": "@jupyter-widgets/output",
          "model_name": "OutputModel",
          "model_module_version": "1.0.0",
          "state": {
            "_dom_classes": [],
            "_model_module": "@jupyter-widgets/output",
            "_model_module_version": "1.0.0",
            "_model_name": "OutputModel",
            "_view_count": null,
            "_view_module": "@jupyter-widgets/output",
            "_view_module_version": "1.0.0",
            "_view_name": "OutputView",
            "layout": "IPY_MODEL_307146d435004d3c8b6d4dd489382ca9",
            "msg_id": "",
            "outputs": [
              {
                "output_type": "display_data",
                "data": {
                  "text/plain": "<Figure size 432x288 with 1 Axes>",
                  "image/png": "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\n"
                },
                "metadata": {
                  "needs_background": "light"
                }
              },
              {
                "output_type": "display_data",
                "data": {
                  "text/plain": "90"
                },
                "metadata": {}
              }
            ],
            "tabbable": null,
            "tooltip": null
          }
        },
        "9169defeaf134a9183e6d5200645ef1d": {
          "model_module": "@jupyter-widgets/base",
          "model_name": "LayoutModel",
          "model_module_version": "2.0.0",
          "state": {
            "_model_module": "@jupyter-widgets/base",
            "_model_module_version": "2.0.0",
            "_model_name": "LayoutModel",
            "_view_count": null,
            "_view_module": "@jupyter-widgets/base",
            "_view_module_version": "2.0.0",
            "_view_name": "LayoutView",
            "align_content": null,
            "align_items": null,
            "align_self": null,
            "border_bottom": null,
            "border_left": null,
            "border_right": null,
            "border_top": null,
            "bottom": null,
            "display": null,
            "flex": null,
            "flex_flow": null,
            "grid_area": null,
            "grid_auto_columns": null,
            "grid_auto_flow": null,
            "grid_auto_rows": null,
            "grid_column": null,
            "grid_gap": null,
            "grid_row": null,
            "grid_template_areas": null,
            "grid_template_columns": null,
            "grid_template_rows": null,
            "height": null,
            "justify_content": null,
            "justify_items": null,
            "left": null,
            "margin": null,
            "max_height": null,
            "max_width": null,
            "min_height": null,
            "min_width": null,
            "object_fit": null,
            "object_position": null,
            "order": null,
            "overflow": null,
            "padding": null,
            "right": null,
            "top": null,
            "visibility": null,
            "width": null
          }
        },
        "bd42b847b9d94c0891d9f5a2968782d6": {
          "model_module": "@jupyter-widgets/base",
          "model_name": "LayoutModel",
          "model_module_version": "2.0.0",
          "state": {
            "_model_module": "@jupyter-widgets/base",
            "_model_module_version": "2.0.0",
            "_model_name": "LayoutModel",
            "_view_count": null,
            "_view_module": "@jupyter-widgets/base",
            "_view_module_version": "2.0.0",
            "_view_name": "LayoutView",
            "align_content": null,
            "align_items": null,
            "align_self": null,
            "border_bottom": null,
            "border_left": null,
            "border_right": null,
            "border_top": null,
            "bottom": null,
            "display": null,
            "flex": null,
            "flex_flow": null,
            "grid_area": null,
            "grid_auto_columns": null,
            "grid_auto_flow": null,
            "grid_auto_rows": null,
            "grid_column": null,
            "grid_gap": null,
            "grid_row": null,
            "grid_template_areas": null,
            "grid_template_columns": null,
            "grid_template_rows": null,
            "height": null,
            "justify_content": null,
            "justify_items": null,
            "left": null,
            "margin": null,
            "max_height": null,
            "max_width": null,
            "min_height": null,
            "min_width": null,
            "object_fit": null,
            "object_position": null,
            "order": null,
            "overflow": null,
            "padding": null,
            "right": null,
            "top": null,
            "visibility": null,
            "width": null
          }
        },
        "e7cf8ee3ba0b4eeaaea024f350fa9ee8": {
          "model_module": "@jupyter-widgets/controls",
          "model_name": "SliderStyleModel",
          "model_module_version": "2.0.0",
          "state": {
            "_model_module": "@jupyter-widgets/controls",
            "_model_module_version": "2.0.0",
            "_model_name": "SliderStyleModel",
            "_view_count": null,
            "_view_module": "@jupyter-widgets/base",
            "_view_module_version": "2.0.0",
            "_view_name": "StyleView",
            "description_width": "",
            "handle_color": null
          }
        },
        "307146d435004d3c8b6d4dd489382ca9": {
          "model_module": "@jupyter-widgets/base",
          "model_name": "LayoutModel",
          "model_module_version": "2.0.0",
          "state": {
            "_model_module": "@jupyter-widgets/base",
            "_model_module_version": "2.0.0",
            "_model_name": "LayoutModel",
            "_view_count": null,
            "_view_module": "@jupyter-widgets/base",
            "_view_module_version": "2.0.0",
            "_view_name": "LayoutView",
            "align_content": null,
            "align_items": null,
            "align_self": null,
            "border_bottom": null,
            "border_left": null,
            "border_right": null,
            "border_top": null,
            "bottom": null,
            "display": null,
            "flex": null,
            "flex_flow": null,
            "grid_area": null,
            "grid_auto_columns": null,
            "grid_auto_flow": null,
            "grid_auto_rows": null,
            "grid_column": null,
            "grid_gap": null,
            "grid_row": null,
            "grid_template_areas": null,
            "grid_template_columns": null,
            "grid_template_rows": null,
            "height": null,
            "justify_content": null,
            "justify_items": null,
            "left": null,
            "margin": null,
            "max_height": null,
            "max_width": null,
            "min_height": null,
            "min_width": null,
            "object_fit": null,
            "object_position": null,
            "order": null,
            "overflow": null,
            "padding": null,
            "right": null,
            "top": null,
            "visibility": null,
            "width": null
          }
        },
        "0294da234b3d4312b102ff678891e2eb": {
          "model_module": "@jupyter-widgets/controls",
          "model_name": "VBoxModel",
          "model_module_version": "2.0.0",
          "state": {
            "_dom_classes": [
              "widget-interact"
            ],
            "_model_module": "@jupyter-widgets/controls",
            "_model_module_version": "2.0.0",
            "_model_name": "VBoxModel",
            "_view_count": null,
            "_view_module": "@jupyter-widgets/controls",
            "_view_module_version": "2.0.0",
            "_view_name": "VBoxView",
            "box_style": "",
            "children": [
              "IPY_MODEL_67489cad4c564c5180113a5ab01776dd",
              "IPY_MODEL_17a8774496d348448bdc1938a25e3837"
            ],
            "layout": "IPY_MODEL_20f0975a9e9642da8dce5327fab49587",
            "tabbable": null,
            "tooltip": null
          }
        },
        "67489cad4c564c5180113a5ab01776dd": {
          "model_module": "@jupyter-widgets/controls",
          "model_name": "IntSliderModel",
          "model_module_version": "2.0.0",
          "state": {
            "_dom_classes": [],
            "_model_module": "@jupyter-widgets/controls",
            "_model_module_version": "2.0.0",
            "_model_name": "IntSliderModel",
            "_view_count": null,
            "_view_module": "@jupyter-widgets/controls",
            "_view_module_version": "2.0.0",
            "_view_name": "IntSliderView",
            "behavior": "drag-tap",
            "continuous_update": true,
            "description": "layer",
            "description_allow_html": false,
            "disabled": false,
            "layout": "IPY_MODEL_5ddba5c812c04eabb1d03413cb168c25",
            "max": 143,
            "min": 0,
            "orientation": "horizontal",
            "readout": true,
            "readout_format": "d",
            "step": 1,
            "style": "IPY_MODEL_fc9ad27622da477cb9ca2d71b26d9539",
            "tabbable": null,
            "tooltip": null,
            "value": 90
          }
        },
        "17a8774496d348448bdc1938a25e3837": {
          "model_module": "@jupyter-widgets/output",
          "model_name": "OutputModel",
          "model_module_version": "1.0.0",
          "state": {
            "_dom_classes": [],
            "_model_module": "@jupyter-widgets/output",
            "_model_module_version": "1.0.0",
            "_model_name": "OutputModel",
            "_view_count": null,
            "_view_module": "@jupyter-widgets/output",
            "_view_module_version": "1.0.0",
            "_view_name": "OutputView",
            "layout": "IPY_MODEL_809e0b0b31e047fdb8533caec9f70afa",
            "msg_id": "",
            "outputs": [
              {
                "output_type": "display_data",
                "data": {
                  "text/plain": "<Figure size 432x288 with 1 Axes>",
                  "image/png": "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\n"
                },
                "metadata": {
                  "needs_background": "light"
                }
              },
              {
                "output_type": "display_data",
                "data": {
                  "text/plain": "90"
                },
                "metadata": {}
              }
            ],
            "tabbable": null,
            "tooltip": null
          }
        },
        "20f0975a9e9642da8dce5327fab49587": {
          "model_module": "@jupyter-widgets/base",
          "model_name": "LayoutModel",
          "model_module_version": "2.0.0",
          "state": {
            "_model_module": "@jupyter-widgets/base",
            "_model_module_version": "2.0.0",
            "_model_name": "LayoutModel",
            "_view_count": null,
            "_view_module": "@jupyter-widgets/base",
            "_view_module_version": "2.0.0",
            "_view_name": "LayoutView",
            "align_content": null,
            "align_items": null,
            "align_self": null,
            "border_bottom": null,
            "border_left": null,
            "border_right": null,
            "border_top": null,
            "bottom": null,
            "display": null,
            "flex": null,
            "flex_flow": null,
            "grid_area": null,
            "grid_auto_columns": null,
            "grid_auto_flow": null,
            "grid_auto_rows": null,
            "grid_column": null,
            "grid_gap": null,
            "grid_row": null,
            "grid_template_areas": null,
            "grid_template_columns": null,
            "grid_template_rows": null,
            "height": null,
            "justify_content": null,
            "justify_items": null,
            "left": null,
            "margin": null,
            "max_height": null,
            "max_width": null,
            "min_height": null,
            "min_width": null,
            "object_fit": null,
            "object_position": null,
            "order": null,
            "overflow": null,
            "padding": null,
            "right": null,
            "top": null,
            "visibility": null,
            "width": null
          }
        },
        "5ddba5c812c04eabb1d03413cb168c25": {
          "model_module": "@jupyter-widgets/base",
          "model_name": "LayoutModel",
          "model_module_version": "2.0.0",
          "state": {
            "_model_module": "@jupyter-widgets/base",
            "_model_module_version": "2.0.0",
            "_model_name": "LayoutModel",
            "_view_count": null,
            "_view_module": "@jupyter-widgets/base",
            "_view_module_version": "2.0.0",
            "_view_name": "LayoutView",
            "align_content": null,
            "align_items": null,
            "align_self": null,
            "border_bottom": null,
            "border_left": null,
            "border_right": null,
            "border_top": null,
            "bottom": null,
            "display": null,
            "flex": null,
            "flex_flow": null,
            "grid_area": null,
            "grid_auto_columns": null,
            "grid_auto_flow": null,
            "grid_auto_rows": null,
            "grid_column": null,
            "grid_gap": null,
            "grid_row": null,
            "grid_template_areas": null,
            "grid_template_columns": null,
            "grid_template_rows": null,
            "height": null,
            "justify_content": null,
            "justify_items": null,
            "left": null,
            "margin": null,
            "max_height": null,
            "max_width": null,
            "min_height": null,
            "min_width": null,
            "object_fit": null,
            "object_position": null,
            "order": null,
            "overflow": null,
            "padding": null,
            "right": null,
            "top": null,
            "visibility": null,
            "width": null
          }
        },
        "fc9ad27622da477cb9ca2d71b26d9539": {
          "model_module": "@jupyter-widgets/controls",
          "model_name": "SliderStyleModel",
          "model_module_version": "2.0.0",
          "state": {
            "_model_module": "@jupyter-widgets/controls",
            "_model_module_version": "2.0.0",
            "_model_name": "SliderStyleModel",
            "_view_count": null,
            "_view_module": "@jupyter-widgets/base",
            "_view_module_version": "2.0.0",
            "_view_name": "StyleView",
            "description_width": "",
            "handle_color": null
          }
        },
        "809e0b0b31e047fdb8533caec9f70afa": {
          "model_module": "@jupyter-widgets/base",
          "model_name": "LayoutModel",
          "model_module_version": "2.0.0",
          "state": {
            "_model_module": "@jupyter-widgets/base",
            "_model_module_version": "2.0.0",
            "_model_name": "LayoutModel",
            "_view_count": null,
            "_view_module": "@jupyter-widgets/base",
            "_view_module_version": "2.0.0",
            "_view_name": "LayoutView",
            "align_content": null,
            "align_items": null,
            "align_self": null,
            "border_bottom": null,
            "border_left": null,
            "border_right": null,
            "border_top": null,
            "bottom": null,
            "display": null,
            "flex": null,
            "flex_flow": null,
            "grid_area": null,
            "grid_auto_columns": null,
            "grid_auto_flow": null,
            "grid_auto_rows": null,
            "grid_column": null,
            "grid_gap": null,
            "grid_row": null,
            "grid_template_areas": null,
            "grid_template_columns": null,
            "grid_template_rows": null,
            "height": null,
            "justify_content": null,
            "justify_items": null,
            "left": null,
            "margin": null,
            "max_height": null,
            "max_width": null,
            "min_height": null,
            "min_width": null,
            "object_fit": null,
            "object_position": null,
            "order": null,
            "overflow": null,
            "padding": null,
            "right": null,
            "top": null,
            "visibility": null,
            "width": null
          }
        }
      }
    }
  },
  "nbformat_minor": 0,
  "nbformat": 4,
  "cells": [
    {
      "cell_type": "code",
      "source": [
        "from google.colab import drive\n",
        "drive.mount('/content/drive')"
      ],
      "metadata": {
        "colab": {
          "base_uri": "https://localhost:8080/"
        },
        "id": "oXxwLBH9HD3D",
        "outputId": "cbb5d361-9001-4281-a838-6821406d1638"
      },
      "execution_count": 1,
      "outputs": [
        {
          "output_type": "stream",
          "name": "stdout",
          "text": [
            "Mounted at /content/drive\n"
          ]
        }
      ]
    },
    {
      "cell_type": "code",
      "source": [
        "# !pip install -r \"/content/drive/MyDrive/Personal/MS/Brain_Tumor_segmentaion3D/environment.txt\"\n",
        "!pip install -r \"/content/drive/MyDrive/ECE542/Brain_Tumor_segmentaion3D/environment.txt\""
      ],
      "metadata": {
        "id": "sYpzJ3_uUxy5",
        "colab": {
          "base_uri": "https://localhost:8080/"
        },
        "outputId": "391e576f-592f-41cb-b567-b5e7684c5d2e"
      },
      "execution_count": 2,
      "outputs": [
        {
          "output_type": "stream",
          "name": "stdout",
          "text": [
            "Looking in indexes: https://pypi.org/simple, https://us-python.pkg.dev/colab-wheels/public/simple/\n",
            "Collecting asttokens==2.2.1\n",
            "  Downloading asttokens-2.2.1-py2.py3-none-any.whl (26 kB)\n",
            "Requirement already satisfied: backcall==0.2.0 in /usr/local/lib/python3.9/dist-packages (from -r /content/drive/MyDrive/ECE542/Brain_Tumor_segmentaion3D/environment.txt (line 2)) (0.2.0)\n",
            "Requirement already satisfied: certifi==2022.12.7 in /usr/local/lib/python3.9/dist-packages (from -r /content/drive/MyDrive/ECE542/Brain_Tumor_segmentaion3D/environment.txt (line 3)) (2022.12.7)\n",
            "Collecting charset-normalizer==2.1.1\n",
            "  Downloading charset_normalizer-2.1.1-py3-none-any.whl (39 kB)\n",
            "Collecting colorama==0.4.6\n",
            "  Downloading colorama-0.4.6-py2.py3-none-any.whl (25 kB)\n",
            "Requirement already satisfied: contourpy in /usr/local/lib/python3.9/dist-packages (from -r /content/drive/MyDrive/ECE542/Brain_Tumor_segmentaion3D/environment.txt (line 6)) (1.0.7)\n",
            "Requirement already satisfied: cycler in /usr/local/lib/python3.9/dist-packages (from -r /content/drive/MyDrive/ECE542/Brain_Tumor_segmentaion3D/environment.txt (line 7)) (0.11.0)\n",
            "Collecting decorator==5.1.1\n",
            "  Downloading decorator-5.1.1-py3-none-any.whl (9.1 kB)\n",
            "Collecting einops==0.6.0\n",
            "  Downloading einops-0.6.0-py3-none-any.whl (41 kB)\n",
            "\u001b[2K     \u001b[90m━━━━━━━━━━━━━━━━━━━━━━━━━━━━━━━━━━━━━━━━\u001b[0m \u001b[32m41.6/41.6 KB\u001b[0m \u001b[31m5.8 MB/s\u001b[0m eta \u001b[36m0:00:00\u001b[0m\n",
            "\u001b[?25hCollecting executing==1.2.0\n",
            "  Downloading executing-1.2.0-py2.py3-none-any.whl (24 kB)\n",
            "Collecting filelock==3.10.0\n",
            "  Downloading filelock-3.10.0-py3-none-any.whl (9.9 kB)\n",
            "Requirement already satisfied: fonttools in /usr/local/lib/python3.9/dist-packages (from -r /content/drive/MyDrive/ECE542/Brain_Tumor_segmentaion3D/environment.txt (line 12)) (4.39.2)\n",
            "Requirement already satisfied: idna==3.4 in /usr/local/lib/python3.9/dist-packages (from -r /content/drive/MyDrive/ECE542/Brain_Tumor_segmentaion3D/environment.txt (line 13)) (3.4)\n",
            "Requirement already satisfied: importlib-resources in /usr/local/lib/python3.9/dist-packages (from -r /content/drive/MyDrive/ECE542/Brain_Tumor_segmentaion3D/environment.txt (line 14)) (5.12.0)\n",
            "Collecting ipython==8.11.0\n",
            "  Downloading ipython-8.11.0-py3-none-any.whl (793 kB)\n",
            "\u001b[2K     \u001b[90m━━━━━━━━━━━━━━━━━━━━━━━━━━━━━━━━━━━━━━\u001b[0m \u001b[32m793.3/793.3 KB\u001b[0m \u001b[31m19.7 MB/s\u001b[0m eta \u001b[36m0:00:00\u001b[0m\n",
            "\u001b[?25hCollecting ipywidgets==8.0.5\n",
            "  Downloading ipywidgets-8.0.5-py3-none-any.whl (138 kB)\n",
            "\u001b[2K     \u001b[90m━━━━━━━━━━━━━━━━━━━━━━━━━━━━━━━━━━━━━━\u001b[0m \u001b[32m138.3/138.3 KB\u001b[0m \u001b[31m15.9 MB/s\u001b[0m eta \u001b[36m0:00:00\u001b[0m\n",
            "\u001b[?25hCollecting jedi==0.18.2\n",
            "  Downloading jedi-0.18.2-py2.py3-none-any.whl (1.6 MB)\n",
            "\u001b[2K     \u001b[90m━━━━━━━━━━━━━━━━━━━━━━━━━━━━━━━━━━━━━━━━\u001b[0m \u001b[32m1.6/1.6 MB\u001b[0m \u001b[31m69.1 MB/s\u001b[0m eta \u001b[36m0:00:00\u001b[0m\n",
            "\u001b[?25hRequirement already satisfied: Jinja2==3.1.2 in /usr/local/lib/python3.9/dist-packages (from -r /content/drive/MyDrive/ECE542/Brain_Tumor_segmentaion3D/environment.txt (line 18)) (3.1.2)\n",
            "Requirement already satisfied: jupyterlab-widgets==3.0.6 in /usr/local/lib/python3.9/dist-packages (from -r /content/drive/MyDrive/ECE542/Brain_Tumor_segmentaion3D/environment.txt (line 19)) (3.0.6)\n",
            "Requirement already satisfied: kiwisolver in /usr/local/lib/python3.9/dist-packages (from -r /content/drive/MyDrive/ECE542/Brain_Tumor_segmentaion3D/environment.txt (line 20)) (1.4.4)\n",
            "Requirement already satisfied: MarkupSafe==2.1.2 in /usr/local/lib/python3.9/dist-packages (from -r /content/drive/MyDrive/ECE542/Brain_Tumor_segmentaion3D/environment.txt (line 21)) (2.1.2)\n",
            "Requirement already satisfied: matplotlib in /usr/local/lib/python3.9/dist-packages (from -r /content/drive/MyDrive/ECE542/Brain_Tumor_segmentaion3D/environment.txt (line 22)) (3.7.1)\n",
            "Collecting matplotlib-inline==0.1.6\n",
            "  Downloading matplotlib_inline-0.1.6-py3-none-any.whl (9.4 kB)\n",
            "Collecting monai==1.0.1\n",
            "  Downloading monai-1.0.1-202210241233-py3-none-any.whl (1.1 MB)\n",
            "\u001b[2K     \u001b[90m━━━━━━━━━━━━━━━━━━━━━━━━━━━━━━━━━━━━━━━━\u001b[0m \u001b[32m1.1/1.1 MB\u001b[0m \u001b[31m20.7 MB/s\u001b[0m eta \u001b[36m0:00:00\u001b[0m\n",
            "\u001b[?25hRequirement already satisfied: mpmath==1.3.0 in /usr/local/lib/python3.9/dist-packages (from -r /content/drive/MyDrive/ECE542/Brain_Tumor_segmentaion3D/environment.txt (line 25)) (1.3.0)\n",
            "Collecting munkres==1.1.4\n",
            "  Downloading munkres-1.1.4-py2.py3-none-any.whl (7.0 kB)\n",
            "Requirement already satisfied: networkx==3.0 in /usr/local/lib/python3.9/dist-packages (from -r /content/drive/MyDrive/ECE542/Brain_Tumor_segmentaion3D/environment.txt (line 27)) (3.0)\n",
            "Collecting nibabel==5.0.1\n",
            "  Downloading nibabel-5.0.1-py3-none-any.whl (3.3 MB)\n",
            "\u001b[2K     \u001b[90m━━━━━━━━━━━━━━━━━━━━━━━━━━━━━━━━━━━━━━━━\u001b[0m \u001b[32m3.3/3.3 MB\u001b[0m \u001b[31m90.4 MB/s\u001b[0m eta \u001b[36m0:00:00\u001b[0m\n",
            "\u001b[?25hRequirement already satisfied: numpy in /usr/local/lib/python3.9/dist-packages (from -r /content/drive/MyDrive/ECE542/Brain_Tumor_segmentaion3D/environment.txt (line 29)) (1.22.4)\n",
            "Requirement already satisfied: packaging in /usr/local/lib/python3.9/dist-packages (from -r /content/drive/MyDrive/ECE542/Brain_Tumor_segmentaion3D/environment.txt (line 30)) (23.0)\n",
            "Requirement already satisfied: parso==0.8.3 in /usr/local/lib/python3.9/dist-packages (from -r /content/drive/MyDrive/ECE542/Brain_Tumor_segmentaion3D/environment.txt (line 31)) (0.8.3)\n",
            "Requirement already satisfied: pickleshare==0.7.5 in /usr/local/lib/python3.9/dist-packages (from -r /content/drive/MyDrive/ECE542/Brain_Tumor_segmentaion3D/environment.txt (line 32)) (0.7.5)\n",
            "Requirement already satisfied: Pillow in /usr/local/lib/python3.9/dist-packages (from -r /content/drive/MyDrive/ECE542/Brain_Tumor_segmentaion3D/environment.txt (line 33)) (8.4.0)\n",
            "Collecting prompt-toolkit==3.0.38\n",
            "  Downloading prompt_toolkit-3.0.38-py3-none-any.whl (385 kB)\n",
            "\u001b[2K     \u001b[90m━━━━━━━━━━━━━━━━━━━━━━━━━━━━━━━━━━━━━━\u001b[0m \u001b[32m385.8/385.8 KB\u001b[0m \u001b[31m41.3 MB/s\u001b[0m eta \u001b[36m0:00:00\u001b[0m\n",
            "\u001b[?25hCollecting pure-eval==0.2.2\n",
            "  Downloading pure_eval-0.2.2-py3-none-any.whl (11 kB)\n",
            "Requirement already satisfied: Pygments==2.14.0 in /usr/local/lib/python3.9/dist-packages (from -r /content/drive/MyDrive/ECE542/Brain_Tumor_segmentaion3D/environment.txt (line 36)) (2.14.0)\n",
            "Requirement already satisfied: pyparsing in /usr/local/lib/python3.9/dist-packages (from -r /content/drive/MyDrive/ECE542/Brain_Tumor_segmentaion3D/environment.txt (line 37)) (3.0.9)\n",
            "Collecting PyQt5==5.12.3\n",
            "  Downloading PyQt5-5.12.3-5.12.10-cp35.cp36.cp37.cp38.cp39-abi3-manylinux1_x86_64.whl (62.4 MB)\n",
            "\u001b[2K     \u001b[90m━━━━━━━━━━━━━━━━━━━━━━━━━━━━━━━━━━━━━━━━\u001b[0m \u001b[32m62.4/62.4 MB\u001b[0m \u001b[31m13.3 MB/s\u001b[0m eta \u001b[36m0:00:00\u001b[0m\n",
            "\u001b[?25hCollecting PyQtChart==5.12\n",
            "  Downloading PyQtChart-5.12.0-5.12.10-cp35.cp36.cp37.cp38.cp39-abi3-manylinux1_x86_64.whl (1.1 MB)\n",
            "\u001b[2K     \u001b[90m━━━━━━━━━━━━━━━━━━━━━━━━━━━━━━━━━━━━━━━━\u001b[0m \u001b[32m1.1/1.1 MB\u001b[0m \u001b[31m78.9 MB/s\u001b[0m eta \u001b[36m0:00:00\u001b[0m\n",
            "\u001b[?25hCollecting PyQtWebEngine==5.12.1\n",
            "  Downloading PyQtWebEngine-5.12.1-5.12.10-cp35.cp36.cp37.cp38.cp39-abi3-manylinux1_x86_64.whl (60.1 MB)\n",
            "\u001b[2K     \u001b[90m━━━━━━━━━━━━━━━━━━━━━━━━━━━━━━━━━━━━━━━━\u001b[0m \u001b[32m60.1/60.1 MB\u001b[0m \u001b[31m13.5 MB/s\u001b[0m eta \u001b[36m0:00:00\u001b[0m\n",
            "\u001b[?25hRequirement already satisfied: python-dateutil in /usr/local/lib/python3.9/dist-packages (from -r /content/drive/MyDrive/ECE542/Brain_Tumor_segmentaion3D/environment.txt (line 41)) (2.8.2)\n",
            "Requirement already satisfied: PyYAML==6.0 in /usr/local/lib/python3.9/dist-packages (from -r /content/drive/MyDrive/ECE542/Brain_Tumor_segmentaion3D/environment.txt (line 42)) (6.0)\n",
            "Collecting requests==2.28.1\n",
            "  Downloading requests-2.28.1-py3-none-any.whl (62 kB)\n",
            "\u001b[2K     \u001b[90m━━━━━━━━━━━━━━━━━━━━━━━━━━━━━━━━━━━━━━━━\u001b[0m \u001b[32m62.8/62.8 KB\u001b[0m \u001b[31m8.8 MB/s\u001b[0m eta \u001b[36m0:00:00\u001b[0m\n",
            "\u001b[?25hRequirement already satisfied: scipy==1.10.1 in /usr/local/lib/python3.9/dist-packages (from -r /content/drive/MyDrive/ECE542/Brain_Tumor_segmentaion3D/environment.txt (line 44)) (1.10.1)\n",
            "Requirement already satisfied: six in /usr/local/lib/python3.9/dist-packages (from -r /content/drive/MyDrive/ECE542/Brain_Tumor_segmentaion3D/environment.txt (line 45)) (1.16.0)\n",
            "Collecting stack-data==0.6.2\n",
            "  Downloading stack_data-0.6.2-py3-none-any.whl (24 kB)\n",
            "Requirement already satisfied: sympy==1.11.1 in /usr/local/lib/python3.9/dist-packages (from -r /content/drive/MyDrive/ECE542/Brain_Tumor_segmentaion3D/environment.txt (line 47)) (1.11.1)\n",
            "Requirement already satisfied: tornado in /usr/local/lib/python3.9/dist-packages (from -r /content/drive/MyDrive/ECE542/Brain_Tumor_segmentaion3D/environment.txt (line 48)) (6.2)\n",
            "Requirement already satisfied: tqdm==4.65.0 in /usr/local/lib/python3.9/dist-packages (from -r /content/drive/MyDrive/ECE542/Brain_Tumor_segmentaion3D/environment.txt (line 49)) (4.65.0)\n",
            "Collecting traitlets==5.9.0\n",
            "  Downloading traitlets-5.9.0-py3-none-any.whl (117 kB)\n",
            "\u001b[2K     \u001b[90m━━━━━━━━━━━━━━━━━━━━━━━━━━━━━━━━━━━━━━\u001b[0m \u001b[32m117.4/117.4 KB\u001b[0m \u001b[31m17.6 MB/s\u001b[0m eta \u001b[36m0:00:00\u001b[0m\n",
            "\u001b[?25hRequirement already satisfied: typing_extensions==4.5.0 in /usr/local/lib/python3.9/dist-packages (from -r /content/drive/MyDrive/ECE542/Brain_Tumor_segmentaion3D/environment.txt (line 51)) (4.5.0)\n",
            "Collecting unicodedata2\n",
            "  Downloading unicodedata2-15.0.0-cp39-cp39-manylinux_2_17_x86_64.manylinux2014_x86_64.whl (467 kB)\n",
            "\u001b[2K     \u001b[90m━━━━━━━━━━━━━━━━━━━━━━━━━━━━━━━━━━━━━━\u001b[0m \u001b[32m467.5/467.5 KB\u001b[0m \u001b[31m45.0 MB/s\u001b[0m eta \u001b[36m0:00:00\u001b[0m\n",
            "\u001b[?25hCollecting urllib3==1.26.13\n",
            "  Downloading urllib3-1.26.13-py2.py3-none-any.whl (140 kB)\n",
            "\u001b[2K     \u001b[90m━━━━━━━━━━━━━━━━━━━━━━━━━━━━━━━━━━━━━━\u001b[0m \u001b[32m140.6/140.6 KB\u001b[0m \u001b[31m18.8 MB/s\u001b[0m eta \u001b[36m0:00:00\u001b[0m\n",
            "\u001b[?25hRequirement already satisfied: wcwidth==0.2.6 in /usr/local/lib/python3.9/dist-packages (from -r /content/drive/MyDrive/ECE542/Brain_Tumor_segmentaion3D/environment.txt (line 54)) (0.2.6)\n",
            "Collecting widgetsnbextension==4.0.6\n",
            "  Downloading widgetsnbextension-4.0.6-py3-none-any.whl (2.1 MB)\n",
            "\u001b[2K     \u001b[90m━━━━━━━━━━━━━━━━━━━━━━━━━━━━━━━━━━━━━━━━\u001b[0m \u001b[32m2.1/2.1 MB\u001b[0m \u001b[31m96.1 MB/s\u001b[0m eta \u001b[36m0:00:00\u001b[0m\n",
            "\u001b[?25hRequirement already satisfied: zipp in /usr/local/lib/python3.9/dist-packages (from -r /content/drive/MyDrive/ECE542/Brain_Tumor_segmentaion3D/environment.txt (line 56)) (3.15.0)\n",
            "Requirement already satisfied: pexpect>4.3 in /usr/local/lib/python3.9/dist-packages (from ipython==8.11.0->-r /content/drive/MyDrive/ECE542/Brain_Tumor_segmentaion3D/environment.txt (line 15)) (4.8.0)\n",
            "Requirement already satisfied: torch>=1.7 in /usr/local/lib/python3.9/dist-packages (from monai==1.0.1->-r /content/drive/MyDrive/ECE542/Brain_Tumor_segmentaion3D/environment.txt (line 24)) (1.13.1+cu116)\n",
            "Requirement already satisfied: setuptools in /usr/local/lib/python3.9/dist-packages (from nibabel==5.0.1->-r /content/drive/MyDrive/ECE542/Brain_Tumor_segmentaion3D/environment.txt (line 28)) (67.6.0)\n",
            "Collecting PyQt5_sip<13,>=4.19.14\n",
            "  Downloading PyQt5_sip-12.11.1-cp39-cp39-manylinux_2_5_x86_64.manylinux1_x86_64.whl (357 kB)\n",
            "\u001b[2K     \u001b[90m━━━━━━━━━━━━━━━━━━━━━━━━━━━━━━━━━━━━━━\u001b[0m \u001b[32m357.8/357.8 KB\u001b[0m \u001b[31m39.0 MB/s\u001b[0m eta \u001b[36m0:00:00\u001b[0m\n",
            "\u001b[?25hRequirement already satisfied: ptyprocess>=0.5 in /usr/local/lib/python3.9/dist-packages (from pexpect>4.3->ipython==8.11.0->-r /content/drive/MyDrive/ECE542/Brain_Tumor_segmentaion3D/environment.txt (line 15)) (0.7.0)\n",
            "Installing collected packages: unicodedata2, pure-eval, munkres, executing, widgetsnbextension, urllib3, traitlets, PyQt5_sip, prompt-toolkit, nibabel, jedi, filelock, einops, decorator, colorama, charset-normalizer, asttokens, stack-data, requests, PyQt5, monai, matplotlib-inline, PyQtWebEngine, PyQtChart, ipython, ipywidgets\n",
            "  Attempting uninstall: widgetsnbextension\n",
            "    Found existing installation: widgetsnbextension 3.6.3\n",
            "    Uninstalling widgetsnbextension-3.6.3:\n",
            "      Successfully uninstalled widgetsnbextension-3.6.3\n",
            "  Attempting uninstall: urllib3\n",
            "    Found existing installation: urllib3 1.26.15\n",
            "    Uninstalling urllib3-1.26.15:\n",
            "      Successfully uninstalled urllib3-1.26.15\n",
            "  Attempting uninstall: traitlets\n",
            "    Found existing installation: traitlets 5.7.1\n",
            "    Uninstalling traitlets-5.7.1:\n",
            "      Successfully uninstalled traitlets-5.7.1\n",
            "  Attempting uninstall: prompt-toolkit\n",
            "    Found existing installation: prompt-toolkit 2.0.10\n",
            "    Uninstalling prompt-toolkit-2.0.10:\n",
            "      Successfully uninstalled prompt-toolkit-2.0.10\n",
            "  Attempting uninstall: nibabel\n",
            "    Found existing installation: nibabel 3.0.2\n",
            "    Uninstalling nibabel-3.0.2:\n",
            "      Successfully uninstalled nibabel-3.0.2\n",
            "  Attempting uninstall: filelock\n",
            "    Found existing installation: filelock 3.10.2\n",
            "    Uninstalling filelock-3.10.2:\n",
            "      Successfully uninstalled filelock-3.10.2\n",
            "  Attempting uninstall: decorator\n",
            "    Found existing installation: decorator 4.4.2\n",
            "    Uninstalling decorator-4.4.2:\n",
            "      Successfully uninstalled decorator-4.4.2\n",
            "  Attempting uninstall: charset-normalizer\n",
            "    Found existing installation: charset-normalizer 2.0.12\n",
            "    Uninstalling charset-normalizer-2.0.12:\n",
            "      Successfully uninstalled charset-normalizer-2.0.12\n",
            "  Attempting uninstall: requests\n",
            "    Found existing installation: requests 2.27.1\n",
            "    Uninstalling requests-2.27.1:\n",
            "      Successfully uninstalled requests-2.27.1\n",
            "  Attempting uninstall: ipython\n",
            "    Found existing installation: ipython 7.9.0\n",
            "    Uninstalling ipython-7.9.0:\n",
            "      Successfully uninstalled ipython-7.9.0\n",
            "  Attempting uninstall: ipywidgets\n",
            "    Found existing installation: ipywidgets 7.7.1\n",
            "    Uninstalling ipywidgets-7.7.1:\n",
            "      Successfully uninstalled ipywidgets-7.7.1\n",
            "\u001b[31mERROR: pip's dependency resolver does not currently take into account all the packages that are installed. This behaviour is the source of the following dependency conflicts.\n",
            "moviepy 1.0.3 requires decorator<5.0,>=4.0.2, but you have decorator 5.1.1 which is incompatible.\n",
            "google-colab 1.0.0 requires ipython~=7.9.0, but you have ipython 8.11.0 which is incompatible.\u001b[0m\u001b[31m\n",
            "\u001b[0mSuccessfully installed PyQt5-5.12.3 PyQt5_sip-12.11.1 PyQtChart-5.12.0 PyQtWebEngine-5.12.1 asttokens-2.2.1 charset-normalizer-2.1.1 colorama-0.4.6 decorator-5.1.1 einops-0.6.0 executing-1.2.0 filelock-3.10.0 ipython-8.11.0 ipywidgets-8.0.5 jedi-0.18.2 matplotlib-inline-0.1.6 monai-1.0.1 munkres-1.1.4 nibabel-5.0.1 prompt-toolkit-3.0.38 pure-eval-0.2.2 requests-2.28.1 stack-data-0.6.2 traitlets-5.9.0 unicodedata2-15.0.0 urllib3-1.26.13 widgetsnbextension-4.0.6\n"
          ]
        }
      ]
    },
    {
      "cell_type": "code",
      "source": [
        "!pip install torchmetrics"
      ],
      "metadata": {
        "id": "GDNT9nn8GZRU",
        "colab": {
          "base_uri": "https://localhost:8080/"
        },
        "outputId": "86270afd-c3b9-4608-f879-77818791477e"
      },
      "execution_count": 3,
      "outputs": [
        {
          "output_type": "stream",
          "name": "stdout",
          "text": [
            "Looking in indexes: https://pypi.org/simple, https://us-python.pkg.dev/colab-wheels/public/simple/\n",
            "Collecting torchmetrics\n",
            "  Downloading torchmetrics-0.11.4-py3-none-any.whl (519 kB)\n",
            "\u001b[2K     \u001b[90m━━━━━━━━━━━━━━━━━━━━━━━━━━━━━━━━━━━━━━\u001b[0m \u001b[32m519.2/519.2 KB\u001b[0m \u001b[31m11.3 MB/s\u001b[0m eta \u001b[36m0:00:00\u001b[0m\n",
            "\u001b[?25hRequirement already satisfied: numpy>=1.17.2 in /usr/local/lib/python3.9/dist-packages (from torchmetrics) (1.22.4)\n",
            "Requirement already satisfied: packaging in /usr/local/lib/python3.9/dist-packages (from torchmetrics) (23.0)\n",
            "Requirement already satisfied: torch>=1.8.1 in /usr/local/lib/python3.9/dist-packages (from torchmetrics) (1.13.1+cu116)\n",
            "Requirement already satisfied: typing-extensions in /usr/local/lib/python3.9/dist-packages (from torch>=1.8.1->torchmetrics) (4.5.0)\n",
            "Installing collected packages: torchmetrics\n",
            "Successfully installed torchmetrics-0.11.4\n"
          ]
        }
      ]
    },
    {
      "cell_type": "markdown",
      "source": [
        "# Data Description:\n",
        " \n",
        "### Image types: \n",
        "* Native T1-weighted (T1): This scan is obtained using a standard T1-weighted imaging sequence, which uses a short TR (repetition time) and a short TE (echo time) to provide high-resolution images of the brain tissue. This sequence highlights the differences in tissue types based on their contrast with the surrounding tissues.\n",
        "\n",
        "* Post-contrast T1-weighted (T1Gd): This scan is obtained using a T1-weighted imaging sequence after the administration of a contrast agent such as Gadolinium. The contrast agent is injected intravenously and is taken up by cells with a disrupted blood-brain barrier, which is a common characteristic of brain tumors. This sequence highlights the regions of the brain with a disrupted blood-brain barrier, such as enhancing tumor regions.\n",
        "\n",
        "* T2-weighted (T2): This scan is obtained using a T2-weighted imaging sequence, which uses a long TR and a long TE to provide a more detailed view of the brain tissue. This sequence highlights subtle differences in tissue types that are not visible on T1 scans.\n",
        "\n",
        "* T2 Fluid Attenuated Inversion Recovery (T2-FLAIR): This scan is obtained using a T2-weighted imaging sequence that is modified to suppress the signal from cerebrospinal fluid (CSF). This is achieved by using an inversion recovery pulse before the T2-weighted acquisition. This sequence is useful for distinguishing between edema and other types of brain tissue because the CSF signal is suppressed.\n",
        "\n",
        "### Segmentation Classes:\n",
        "* label 0: No tumor\n",
        "* label 1: necrotic tumor core (Visible in T2): This class represents the core of the tumor, which is composed of necrotic tissue and non-enhancing tumor cells.\n",
        "* label 2: the peritumoral edematous/invaded tissue (Visible in flair):  This class represents the edema, or swelling, that occurs around the tumor due to the accumulation of fluid in the surrounding brain tissue.\n",
        "* label 4: Gd-enhancing tumor (Needs to be converted to 3) (Visible in T1ce): This class represents the region of the tumor that enhances with the administration of contrast agent."
      ],
      "metadata": {
        "id": "D3FdRqKZEs45"
      }
    },
    {
      "cell_type": "code",
      "source": [
        "import tarfile"
      ],
      "metadata": {
        "id": "rFkRj269Hdss"
      },
      "execution_count": null,
      "outputs": []
    },
    {
      "cell_type": "code",
      "source": [
        "my_tarfile = tarfile.open('/kaggle/input/brats-2021-task1/BraTS2021_Training_Data.tar')\n",
        "index = my_tarfile.getnames()"
      ],
      "metadata": {
        "execution": {
          "iopub.status.busy": "2023-03-16T20:55:13.884662Z",
          "iopub.execute_input": "2023-03-16T20:55:13.885074Z",
          "iopub.status.idle": "2023-03-16T20:56:19.341448Z",
          "shell.execute_reply.started": "2023-03-16T20:55:13.885036Z",
          "shell.execute_reply": "2023-03-16T20:56:19.339939Z"
        },
        "trusted": true,
        "id": "GdokNB6LEs48"
      },
      "execution_count": null,
      "outputs": []
    },
    {
      "cell_type": "code",
      "source": [
        "index[: 8]"
      ],
      "metadata": {
        "execution": {
          "iopub.status.busy": "2023-03-16T20:58:41.360157Z",
          "iopub.execute_input": "2023-03-16T20:58:41.360558Z",
          "iopub.status.idle": "2023-03-16T20:58:41.367927Z",
          "shell.execute_reply.started": "2023-03-16T20:58:41.360521Z",
          "shell.execute_reply": "2023-03-16T20:58:41.366725Z"
        },
        "trusted": true,
        "id": "FdczVee2Es48",
        "outputId": "70a95eae-264a-42d1-d263-761457a4c9d3"
      },
      "execution_count": null,
      "outputs": [
        {
          "execution_count": 5,
          "output_type": "execute_result",
          "data": {
            "text/plain": "['.',\n './.DS_Store',\n './BraTS2021_00000',\n './BraTS2021_00000/BraTS2021_00000_flair.nii.gz',\n './BraTS2021_00000/BraTS2021_00000_seg.nii.gz',\n './BraTS2021_00000/BraTS2021_00000_t1.nii.gz',\n './BraTS2021_00000/BraTS2021_00000_t1ce.nii.gz',\n './BraTS2021_00000/BraTS2021_00000_t2.nii.gz']"
          },
          "metadata": {}
        }
      ]
    },
    {
      "cell_type": "markdown",
      "source": [
        "# Utilities"
      ],
      "metadata": {
        "id": "Nac3cIwdJREi"
      }
    },
    {
      "cell_type": "code",
      "source": [
        "import os\n",
        "import yaml\n",
        "import importlib\n",
        "\n",
        "\n",
        "def check_path(path):\n",
        "    if not os.path.exists(path):\n",
        "        os.mkdir(path)\n",
        "\n",
        "\n",
        "def check_path_recursively(save_folder, config,\n",
        "                           params=[\"model_name\", \"pretrained_name\", \"dataset\", \"similarity_measure\", \"prompt\"]):\n",
        "    params = [config[i] for i in params if config.get(i) is not None]\n",
        "    for i in params:\n",
        "        save_folder = save_folder + \"/\" + i\n",
        "        check_path(save_folder)\n",
        "    config[\"save_folder\"] = save_folder\n",
        "\n",
        "\n",
        "def yaml_writer(path, contents):\n",
        "    with open(path, \"w\") as f:\n",
        "        yaml.dump(contents, f)\n",
        "\n",
        "\n",
        "def text_file_reader(path):\n",
        "    with open(path, \"r\") as f:\n",
        "        contents = list(f.readlines())\n",
        "    contents = [i.split(\"\\n\")[0] for i in contents]\n",
        "    return contents\n",
        "\n",
        "\n",
        "def text_file_writer(path, contents):\n",
        "    with open(path, \"w\") as f:\n",
        "        for line in contents:\n",
        "            if isinstance(line, list):\n",
        "                f.write(\" \".join(line))\n",
        "                f.write(\"\\n\")\n",
        "            else:\n",
        "                f.write(line + \"\\n\")\n",
        "\n",
        "\n",
        "def instantiate_attribute(path):\n",
        "    module_path, attribute_name = path.rsplit(\".\", 1)\n",
        "    module = importlib.import_module(module_path)\n",
        "    return getattr(module, attribute_name)\n",
        "\n",
        "\n",
        "def instantiate_class(path, params):\n",
        "    optimizer_attribute = instantiate_attribute(path)\n",
        "    return optimizer_attribute(params)\n"
      ],
      "metadata": {
        "id": "8NiIFjq7JUHd"
      },
      "execution_count": 4,
      "outputs": []
    },
    {
      "cell_type": "markdown",
      "source": [
        "# Basic Visualization"
      ],
      "metadata": {
        "id": "QjNnUhM-Es49"
      }
    },
    {
      "cell_type": "code",
      "source": [
        "!pip install itkwidgets"
      ],
      "metadata": {
        "id": "_zW8wyhfEs49"
      },
      "execution_count": null,
      "outputs": []
    },
    {
      "cell_type": "code",
      "source": [
        "import glob\n",
        "import os\n",
        "import numpy as np\n",
        "import matplotlib.pyplot as plt\n",
        "import nibabel as nib\n",
        "from ipywidgets import interact\n",
        "from tqdm import tqdm\n",
        "from mpl_toolkits.mplot3d import Axes3D\n",
        "from scipy.ndimage.measurements import label, center_of_mass"
      ],
      "metadata": {
        "id": "Fq_52J7gExin",
        "colab": {
          "base_uri": "https://localhost:8080/"
        },
        "outputId": "db252847-254e-4139-c7f6-f807d194fbac"
      },
      "execution_count": null,
      "outputs": [
        {
          "output_type": "stream",
          "name": "stderr",
          "text": [
            "<ipython-input-37-1e48d0fd498d>:9: DeprecationWarning: Please use `label` from the `scipy.ndimage` namespace, the `scipy.ndimage.measurements` namespace is deprecated.\n",
            "  from scipy.ndimage.measurements import label, center_of_mass\n",
            "<ipython-input-37-1e48d0fd498d>:9: DeprecationWarning: Please use `center_of_mass` from the `scipy.ndimage` namespace, the `scipy.ndimage.measurements` namespace is deprecated.\n",
            "  from scipy.ndimage.measurements import label, center_of_mass\n"
          ]
        }
      ]
    },
    {
      "cell_type": "code",
      "source": [
        "class VisualizePatientData:\n",
        "    def __init__(self, patient_data_folder, img_type_id):\n",
        "        self.patient_data_list = sorted(glob.glob(os.path.join(patient_data_folder, \"*\")))\n",
        "        self.image_types = [\"flair\", \"seg\", \"t1\", \"t1ce\", \"t2\"]\n",
        "        self.cmap_list = [\"gray\", \"BuPu\", \"gray\", \"gray\", \"gray\"]\n",
        "        self.i = img_type_id\n",
        "        self.fig = plt.figure(figsize=(1, 1));\n",
        "    \n",
        "    def visualize_brain_scans(self, cube_path):\n",
        "        def create_display(layer):\n",
        "            self.fig.add_subplot(3, 2, self.i + 1)\n",
        "            plt.imshow(self.scans[:, :, layer], cmap=self.cmap_list[self.i]);\n",
        "            plt.axis('off')\n",
        "            return layer\n",
        "        self.scans = np.asarray(nib.load(cube_path).get_fdata())\n",
        "        interact(create_display, layer=(0, self.scans.shape[2] - 1));\n",
        "\n",
        "    def __call__(self, idx):        \n",
        "        data_path = os.path.join(self.patient_data_list[idx], \"BraTS2021_%05d_%s.nii.gz\" % (idx, self.image_types[self.i]))\n",
        "        self.visualize_brain_scans(data_path)"
      ],
      "metadata": {
        "id": "sK9W18YYEs49"
      },
      "execution_count": null,
      "outputs": []
    },
    {
      "cell_type": "code",
      "source": [
        "patient_data_folder = \"\"\n",
        "example_patient_id = 0"
      ],
      "metadata": {
        "id": "lvR32GKREs4-"
      },
      "execution_count": null,
      "outputs": []
    },
    {
      "cell_type": "code",
      "source": [
        "visualizer_flair = VisualizePatientData(patient_data_folder, 0)\n",
        "visualizer_flair(example_patient_id)"
      ],
      "metadata": {
        "id": "ATSJ7EbtEs4-"
      },
      "execution_count": null,
      "outputs": []
    },
    {
      "cell_type": "code",
      "source": [
        "visualizer_seg = VisualizePatientData(patient_data_folder, 1)\n",
        "visualizer_seg(example_patient_id)"
      ],
      "metadata": {
        "id": "Z3aGWLI4Es4-"
      },
      "execution_count": null,
      "outputs": []
    },
    {
      "cell_type": "code",
      "source": [
        "visualizer_t1 = VisualizePatientData(patient_data_folder, 2)\n",
        "visualizer_t1(example_patient_id)"
      ],
      "metadata": {
        "id": "MGfSgTAkEs4-"
      },
      "execution_count": null,
      "outputs": []
    },
    {
      "cell_type": "code",
      "source": [
        "visualizer_t1ce = VisualizePatientData(patient_data_folder, 3)\n",
        "visualizer_t1ce(example_patient_id)"
      ],
      "metadata": {
        "id": "1fHZRUiOEs4-"
      },
      "execution_count": null,
      "outputs": []
    },
    {
      "cell_type": "code",
      "source": [
        "visualizer_t2 = VisualizePatientData(patient_data_folder, 4)\n",
        "visualizer_t2(example_patient_id)"
      ],
      "metadata": {
        "id": "nLurHo_vEs4-"
      },
      "execution_count": null,
      "outputs": []
    },
    {
      "cell_type": "markdown",
      "source": [
        "# Segmentation Classes study"
      ],
      "metadata": {
        "id": "V56L5n-vEs4-"
      }
    },
    {
      "cell_type": "code",
      "source": [
        "import nibabel as nib\n",
        "import numpy as np\n",
        "import matplotlib.pyplot as plt\n",
        "import glob\n",
        "import os\n",
        "from tqdm import tqdm\n",
        "from mpl_toolkits.mplot3d import Axes3D\n",
        "from scipy.ndimage.measurements import label, center_of_mass"
      ],
      "metadata": {
        "id": "Z6h3yANvEs4-"
      },
      "execution_count": null,
      "outputs": []
    },
    {
      "cell_type": "code",
      "source": [
        "patient_data_folder = \"\"\n",
        "patient_data_list = sorted(glob.glob(os.path.join(patient_data_folder, \"*\")))"
      ],
      "metadata": {
        "id": "rNJQJvZdEs4-"
      },
      "execution_count": null,
      "outputs": []
    },
    {
      "cell_type": "code",
      "source": [
        "core_tumor = []\n",
        "peritumoral_tissue = []\n",
        "enhancing_tumor = []\n",
        "cube_size = 240 * 240 * 155\n",
        "for i in tqdm(patient_data_list):\n",
        "    patient_id = i.split(\"/\")[-1].split(\"_\")[-1]\n",
        "    patient_label_data_path = os.path.join(patient_data_list[i], \"BraTS2021_%05s_seg.nii.gz\" % (patient_id))\n",
        "    patient_label_data = nib.load(patient_label_data_path).get_fdata()\n",
        "    core_tumor.append((len(np.where(patient_label_data == 1)[0]) / cube_size) * 100)\n",
        "    peritumoral_tissue.append((len(np.where(patient_label_data == 2)[0]) / cube_size) * 100)\n",
        "    enhancing_tumor.append((len(np.where(patient_label_data == 4)[0]) / cube_size) * 100)"
      ],
      "metadata": {
        "id": "VpkLXrD9Es4-"
      },
      "execution_count": null,
      "outputs": []
    },
    {
      "cell_type": "code",
      "source": [
        "data = [core_tumor, peritumoral_tissue, enhancing_tumor]\n",
        "data_string = [\"core_tumor\", \"peritumoral_tissue\", \"enhancing_tumor\"] \n",
        "fig = plt.figure(figsize=(12, 12))\n",
        "for i in range(4):\n",
        "    plt.subplot(2, 2, i + 1)\n",
        "    if i == 3:\n",
        "        plt.bar(x=[0, 1, 2], height=[np.average(core_tumor), np.average(peritumoral_tissue), np.average(enhancing_tumor)])\n",
        "        plt.title(\"Average volume of %s, %s, %s\" % (data_string[0], data_string[1], data_string[2]))\n",
        "    else:    \n",
        "        plt.hist(data[i])\n",
        "        plt.title(\"Distribution of volume of %s\" % data_string[i])"
      ],
      "metadata": {
        "id": "iYreI_TvEs4_"
      },
      "execution_count": null,
      "outputs": []
    },
    {
      "cell_type": "code",
      "source": [
        "def visualize_brain_scans(scans):\n",
        "    def create_display(layer):\n",
        "        plt.imshow(scans[:, :, layer], cmap=\"BuPu\");\n",
        "        plt.axis('off')\n",
        "        return layer\n",
        "    interact(create_display, layer=(0, scans.shape[2] - 1));"
      ],
      "metadata": {
        "id": "--hAKugEEs4_"
      },
      "execution_count": null,
      "outputs": []
    },
    {
      "cell_type": "code",
      "source": [
        "def compute_centroid_volume_largest_component(seg_labels, label_id):\n",
        "    seg_labels_core = np.asarray(seg_labels == label_id, dtype=np.uint8)\n",
        "    labels, num_labels = label(seg_labels_core)\n",
        "    volumes = []\n",
        "    for i in range(1, num_labels + 1):\n",
        "        volume = np.sum(labels == i)\n",
        "        volumes.append(volume)\n",
        "    volumes = np.array(volumes)\n",
        "    if len(volumes):\n",
        "        largest_components_id = np.argmax(volumes, -1) + 1\n",
        "        centroid_i = center_of_mass(seg_labels_core, labels=labels, index=largest_components_id)\n",
        "        volume_i = volumes[largest_components_id - 1]\n",
        "        return centroid_i, volume_i\n",
        "    else:\n",
        "        return None, None"
      ],
      "metadata": {
        "id": "UagISeSvEs4_"
      },
      "execution_count": null,
      "outputs": []
    },
    {
      "cell_type": "code",
      "source": [
        "def centroid_volume_correlation(label_id):\n",
        "    centroids = []\n",
        "    volumes = []\n",
        "    for i in tqdm(patient_data_list):\n",
        "        patient_id = i.split(\"/\")[-1].split(\"_\")[-1]\n",
        "        patient_label_data_path = os.path.join(patient_data_list[i], \"BraTS2021_%05s_seg.nii.gz\" % (patient_id))\n",
        "        patient_label_data = nib.load(patient_label_data_path).get_fdata()\n",
        "        centroid_i, volume_i = compute_centroid_volume_largest_component(patient_label_data, label_id)\n",
        "        if volume_i is None:\n",
        "            continue\n",
        "        centroids.append(centroid_i)\n",
        "        volumes.append(volume_i)\n",
        "    return centroids, volumes"
      ],
      "metadata": {
        "id": "WncW--QgEs4_"
      },
      "execution_count": null,
      "outputs": []
    },
    {
      "cell_type": "code",
      "source": [
        "label_id = 1\n",
        "centroids, volumes = centroid_volume_correlation(label_id)\n",
        "centroids = np.array(centroids)\n",
        "volumes = np.array(volumes)"
      ],
      "metadata": {
        "id": "kMjL6RrQEs4_"
      },
      "execution_count": null,
      "outputs": []
    },
    {
      "cell_type": "code",
      "source": [
        "fig = plt.figure(figsize=(120, 120))\n",
        "ax = fig.add_subplot(111, projection='3d')\n",
        "ax.scatter(centroids[:,0], centroids[:,1], centroids[:,2], s=volumes, c=volumes, cmap='BuPu')\n",
        "ax.set_xlabel('X Centroid', fontsize=100)\n",
        "ax.set_ylabel('Y Centroid', fontsize=100)\n",
        "ax.set_zlabel('Z Centroid', fontsize=100)\n",
        "ax.set_title('Correlation between Centroid and Volume', fontsize=100)\n",
        "# cbar = plt.colorbar()\n",
        "# cbar.set_label('Volume')\n",
        "plt.show()"
      ],
      "metadata": {
        "id": "l8il6MhWEs4_"
      },
      "execution_count": null,
      "outputs": []
    },
    {
      "cell_type": "code",
      "source": [
        "label_id = 2\n",
        "centroids, volumes = centroid_volume_correlation(label_id)\n",
        "centroids = np.array(centroids)\n",
        "volumes = np.array(volumes)"
      ],
      "metadata": {
        "id": "BLpq_DGkEs4_"
      },
      "execution_count": null,
      "outputs": []
    },
    {
      "cell_type": "code",
      "source": [
        "fig = plt.figure(figsize=(120, 120))\n",
        "ax = fig.add_subplot(111, projection='3d')\n",
        "ax.scatter(centroids[:,0], centroids[:,1], centroids[:,2], s=volumes, c=volumes, cmap='BuPu')\n",
        "ax.set_xlabel('X Centroid', fontsize=100)\n",
        "ax.set_ylabel('Y Centroid', fontsize=100)\n",
        "ax.set_zlabel('Z Centroid', fontsize=100)\n",
        "ax.set_title('Correlation between Centroid and Volume', fontsize=100)\n",
        "# cbar = plt.colorbar()\n",
        "# cbar.set_label('Volume')\n",
        "plt.show()"
      ],
      "metadata": {
        "id": "exfQut0YEs4_"
      },
      "execution_count": null,
      "outputs": []
    },
    {
      "cell_type": "code",
      "source": [
        "label_id = 4\n",
        "centroids, volumes = centroid_volume_correlation(label_id)\n",
        "centroids = np.array(centroids)\n",
        "volumes = np.array(volumes)\n",
        "fig = plt.figure(figsize=(120, 120))\n",
        "ax = fig.add_subplot(111, projection='3d')\n",
        "ax.scatter(centroids[:,0], centroids[:,1], centroids[:,2], s=volumes, c=volumes, cmap='BuPu')\n",
        "ax.set_xlabel('X Centroid', fontsize=100)\n",
        "ax.set_ylabel('Y Centroid', fontsize=100)\n",
        "ax.set_zlabel('Z Centroid', fontsize=100)\n",
        "ax.set_title('Correlation between Centroid and Volume', fontsize=100)\n",
        "# cbar = plt.colorbar()\n",
        "# cbar.set_label('Volume')\n",
        "plt.show()"
      ],
      "metadata": {
        "id": "g0mJmaQwEs4_"
      },
      "execution_count": null,
      "outputs": []
    },
    {
      "cell_type": "markdown",
      "source": [
        "# Generating two splits from a dataset"
      ],
      "metadata": {
        "id": "Q0MPK_XPEs5A"
      }
    },
    {
      "cell_type": "code",
      "source": [
        "import random\n",
        "import glob\n",
        "import os\n",
        "from tqdm import tqdm\n",
        "import nibabel as nib\n",
        "import numpy as np\n",
        "import matplotlib.pyplot as plt"
      ],
      "metadata": {
        "id": "jrTjDmGcEs5A"
      },
      "execution_count": null,
      "outputs": []
    },
    {
      "cell_type": "code",
      "source": [
        "def compute_class_volumes(patient_folder_list):\n",
        "    core_tumor = []\n",
        "    peritumoral_tissue = []\n",
        "    enhancing_tumor = []\n",
        "    cube_size = 240 * 240 * 155\n",
        "    for i in tqdm(patient_folder_list):\n",
        "        patient_id = i.split(\"/\")[-1].split(\"_\")[-1]\n",
        "        patient_label_data_path = os.path.join(patient_data_list[i], \"BraTS2021_%05s_seg.nii.gz\" % (patient_id))\n",
        "        patient_label_data = nib.load(patient_label_data_path).get_fdata()\n",
        "        core_tumor.append((len(np.where(patient_label_data == 1)[0]) / cube_size) * 100)\n",
        "        peritumoral_tissue.append((len(np.where(patient_label_data == 2)[0]) / cube_size) * 100)\n",
        "        enhancing_tumor.append((len(np.where(patient_label_data == 4)[0]) / cube_size) * 100)\n",
        "    return core_tumor, peritumoral_tissue, enhancing_tumor"
      ],
      "metadata": {
        "id": "CTut-s-oEs5A"
      },
      "execution_count": null,
      "outputs": []
    },
    {
      "cell_type": "code",
      "source": [
        "def visualize_class_distributions(data):\n",
        "    core_tumor, peritumoral_tissue, enhancing_tumor = data\n",
        "    data_string = [\"core_tumor\", \"peritumoral_tissue\", \"enhancing_tumor\"] \n",
        "    fig = plt.figure(figsize=(12, 12))\n",
        "    for i in range(4):\n",
        "        plt.subplot(2, 2, i + 1)\n",
        "        if i == 3:\n",
        "            plt.bar(x=[0, 1, 2], height=[np.average(core_tumor), np.average(peritumoral_tissue), np.average(enhancing_tumor)])\n",
        "            plt.title(\"Average volume of %s, %s, %s\" % (data_string[0], data_string[1], data_string[2]))\n",
        "        else:    \n",
        "            plt.hist(data[i])\n",
        "            plt.title(\"Distribution of volume of %s\" % data_string[i])\n",
        "    return np.average(core_tumor), np.average(peritumoral_tissue), np.average(enhancing_tumor)"
      ],
      "metadata": {
        "id": "lsiF8DF8Es5A"
      },
      "execution_count": null,
      "outputs": []
    },
    {
      "cell_type": "code",
      "source": [
        "def compute_two_splits(data_list, split_ratio):\n",
        "    continue_loop = True\n",
        "    while continue_loop:\n",
        "        list1 = random.sample(data_list, int(0.8 * len(data_list)))\n",
        "        list2 = [i for i in data_list if i not in list1]\n",
        "        list1_volumes = compute_class_volumes(list1)\n",
        "        list2_volumes = compute_class_volumes(list2)\n",
        "        list1_volumes_averages = [np.average(i) for i in list1_volumes]\n",
        "        list2_volumes_averages = [np.average(i) for i in list2_volumes]\n",
        "        overall_averages = [np.average(i + j) for i, j in zip(list1_volumes_averages, list2_volumes_averages)]\n",
        "        list1_class_proportion = np.divide(list1_volumes_averages, np.sum(list1_volumes_averages))\n",
        "        list2_class_proportion = np.divide(list2_volumes_averages, np.sum(list2_volumes_averages))\n",
        "        overall_class_proportion = np.divide(overall_averages, np.sum(overall_averages))\n",
        "        print(\"Current split data: \", list1_class_proportion, list2_class_proportion)\n",
        "        if ((overall_class_proportion[0] - 0.01 <= list1_class_proportion[0] <= overall_class_proportion[0] + 0.01) and\n",
        "           (overall_class_proportion[1] - 0.01 <= list1_class_proportion[1] <= overall_class_proportion[1] + 0.01) and\n",
        "           (overall_class_proportion[2] - 0.01 <= list1_class_proportion[2] <= overall_class_proportion[2] + 0.01) and\n",
        "           (overall_class_proportion[0] - 0.01 <= list2_class_proportion[0] <= overall_class_proportion[0] + 0.01) and\n",
        "           (overall_class_proportion[1] - 0.01 <= list2_class_proportion[1] <= overall_class_proportion[1] + 0.01) and\n",
        "           (overall_class_proportion[2] - 0.01 <= list2_class_proportion[2] <= overall_class_proportion[2] + 0.01)):\n",
        "                return list1, list2"
      ],
      "metadata": {
        "id": "_vdFbPgkEs5A"
      },
      "execution_count": null,
      "outputs": []
    },
    {
      "cell_type": "code",
      "source": [
        "patient_data_folder = \"\"\n",
        "patient_data_list = sorted(glob.glob(os.path.join(patient_data_folder, \"*\")))[: -2]"
      ],
      "metadata": {
        "id": "_DPbb4gMEs5A"
      },
      "execution_count": null,
      "outputs": []
    },
    {
      "cell_type": "code",
      "source": [
        "train_split, test_split = compute_two_splits(patient_data_list, 0.8)"
      ],
      "metadata": {
        "id": "f9uOCf-VEs5A"
      },
      "execution_count": null,
      "outputs": []
    },
    {
      "cell_type": "code",
      "source": [
        "train_volumes = compute_class_volumes(train_split)\n",
        "test_volumes = compute_class_volumes(test_split)\n",
        "visualize_class_distributions(train_volumes)"
      ],
      "metadata": {
        "id": "jmoKzmZHEs5A"
      },
      "execution_count": null,
      "outputs": []
    },
    {
      "cell_type": "code",
      "source": [
        "visualize_class_distributions(test_volumes)"
      ],
      "metadata": {
        "id": "5XBpNObJEs5A"
      },
      "execution_count": null,
      "outputs": []
    },
    {
      "cell_type": "code",
      "source": [
        "training_final, validation = compute_two_splits(train_split, 0.8)"
      ],
      "metadata": {
        "id": "2394lFbxEs5A"
      },
      "execution_count": null,
      "outputs": []
    },
    {
      "cell_type": "code",
      "source": [
        "train_final_volumes = compute_class_volumes(training_final)\n",
        "validation_volumes = compute_class_volumes(validation)\n",
        "visualize_class_distributions(train_final_volumes)"
      ],
      "metadata": {
        "id": "80_ILeBsEs5A"
      },
      "execution_count": null,
      "outputs": []
    },
    {
      "cell_type": "code",
      "source": [
        "visualize_class_distributions(validation_volumes)"
      ],
      "metadata": {
        "id": "730LT418Es5B"
      },
      "execution_count": null,
      "outputs": []
    },
    {
      "cell_type": "markdown",
      "source": [
        "# Models"
      ],
      "metadata": {
        "id": "6M_lpOFcRsJz"
      }
    },
    {
      "cell_type": "code",
      "source": [
        "# Copyright 2020 - 2021 MONAI Consortium\n",
        "# Licensed under the Apache License, Version 2.0 (the \"License\");\n",
        "# you may not use this file except in compliance with the License.\n",
        "# You may obtain a copy of the License at\n",
        "#     http://www.apache.org/licenses/LICENSE-2.0\n",
        "# Unless required by applicable law or agreed to in writing, software\n",
        "# distributed under the License is distributed on an \"AS IS\" BASIS,\n",
        "# WITHOUT WARRANTIES OR CONDITIONS OF ANY KIND, either express or implied.\n",
        "# See the License for the specific language governing permissions and\n",
        "# limitations under the License.\n",
        "\n",
        "from typing import Tuple, Union\n",
        "\n",
        "import torch\n",
        "import torch.nn as nn\n",
        "\n",
        "from monai.networks.blocks import UnetrBasicBlock, UnetrPrUpBlock, UnetrUpBlock\n",
        "from monai.networks.blocks import UnetOutBlock\n",
        "from monai.networks.nets import ViT\n",
        "\n",
        "\n",
        "class UNETR(nn.Module):\n",
        "    \"\"\"\n",
        "    UNETR based on: \"Hatamizadeh et al.,\n",
        "    UNETR: Transformers for 3D Medical Image Segmentation <https://arxiv.org/abs/2103.10504>\"\n",
        "    \"\"\"\n",
        "\n",
        "    def __init__(\n",
        "        self,\n",
        "        in_channels: int,\n",
        "        out_channels: int,\n",
        "        img_size: Tuple[int, int, int],\n",
        "        feature_size: int = 16,\n",
        "        hidden_size: int = 768,\n",
        "        mlp_dim: int = 3072,\n",
        "        num_heads: int = 12,\n",
        "        pos_embed: str = \"perceptron\",\n",
        "        norm_name: Union[Tuple, str] = \"instance\",\n",
        "        conv_block: bool = False,\n",
        "        res_block: bool = True,\n",
        "        dropout_rate: float = 0.0,\n",
        "    ) -> None:\n",
        "        \"\"\"\n",
        "        Args:\n",
        "            in_channels: dimension of input channels.\n",
        "            out_channels: dimension of output channels.\n",
        "            img_size: dimension of input image.\n",
        "            feature_size: dimension of network feature size.\n",
        "            hidden_size: dimension of hidden layer.\n",
        "            mlp_dim: dimension of feedforward layer.\n",
        "            num_heads: number of attention heads.\n",
        "            pos_embed: position embedding layer type.\n",
        "            norm_name: feature normalization type and arguments.\n",
        "            conv_block: bool argument to determine if convolutional block is used.\n",
        "            res_block: bool argument to determine if residual block is used.\n",
        "            dropout_rate: faction of the input units to drop.\n",
        "\n",
        "        Examples::\n",
        "\n",
        "            # for single channel input 4-channel output with patch size of (96,96,96), feature size of 32 and batch norm\n",
        "            >>> net = UNETR(in_channels=1, out_channels=4, img_size=(96,96,96), feature_size=32, norm_name='batch')\n",
        "\n",
        "            # for 4-channel input 3-channel output with patch size of (128,128,128), conv position embedding and instance norm\n",
        "            >>> net = UNETR(in_channels=4, out_channels=3, img_size=(128,128,128), pos_embed='conv', norm_name='instance')\n",
        "\n",
        "        \"\"\"\n",
        "\n",
        "        super().__init__()\n",
        "\n",
        "        if not (0 <= dropout_rate <= 1):\n",
        "            raise AssertionError(\"dropout_rate should be between 0 and 1.\")\n",
        "\n",
        "        if hidden_size % num_heads != 0:\n",
        "            raise AssertionError(\"hidden size should be divisible by num_heads.\")\n",
        "\n",
        "        if pos_embed not in [\"conv\", \"perceptron\"]:\n",
        "            raise KeyError(f\"Position embedding layer of type {pos_embed} is not supported.\")\n",
        "\n",
        "        self.num_layers = 12\n",
        "        self.patch_size = (16, 16, 16)  #(16, 16, 16)\n",
        "        self.feat_size = (\n",
        "            img_size[0] // self.patch_size[0],\n",
        "            img_size[1] // self.patch_size[1],\n",
        "            img_size[2] // self.patch_size[2],\n",
        "        )\n",
        "        self.hidden_size = hidden_size\n",
        "        self.classification = False\n",
        "        self.vit = ViT(\n",
        "            in_channels=in_channels,\n",
        "            img_size=img_size,\n",
        "            patch_size=self.patch_size,\n",
        "            hidden_size=hidden_size,\n",
        "            mlp_dim=mlp_dim,\n",
        "            num_layers=self.num_layers,\n",
        "            num_heads=num_heads,\n",
        "            pos_embed=pos_embed,\n",
        "            classification=self.classification,\n",
        "            dropout_rate=dropout_rate,\n",
        "        )\n",
        "        self.encoder1 = UnetrBasicBlock(\n",
        "            spatial_dims=3,\n",
        "            in_channels=in_channels,\n",
        "            out_channels=feature_size,\n",
        "            kernel_size=3,\n",
        "            stride=1,\n",
        "            norm_name=norm_name,\n",
        "            res_block=res_block,\n",
        "        )\n",
        "        self.encoder2 = UnetrPrUpBlock(\n",
        "            spatial_dims=3,\n",
        "            in_channels=hidden_size,\n",
        "            out_channels=feature_size * 2,\n",
        "            num_layer=2,\n",
        "            kernel_size=3,\n",
        "            stride=1,\n",
        "            upsample_kernel_size=2,\n",
        "            norm_name=norm_name,\n",
        "            conv_block=conv_block,\n",
        "            res_block=res_block,\n",
        "        )\n",
        "        self.encoder3 = UnetrPrUpBlock(\n",
        "            spatial_dims=3,\n",
        "            in_channels=hidden_size,\n",
        "            out_channels=feature_size * 4,\n",
        "            num_layer=1,\n",
        "            kernel_size=3,\n",
        "            stride=1,\n",
        "            upsample_kernel_size=2,\n",
        "            norm_name=norm_name,\n",
        "            conv_block=conv_block,\n",
        "            res_block=res_block,\n",
        "        )\n",
        "        self.encoder4 = UnetrPrUpBlock(\n",
        "            spatial_dims=3,\n",
        "            in_channels=hidden_size,\n",
        "            out_channels=feature_size * 8,\n",
        "            num_layer=0,\n",
        "            kernel_size=3,\n",
        "            stride=1,\n",
        "            upsample_kernel_size=2,\n",
        "            norm_name=norm_name,\n",
        "            conv_block=conv_block,\n",
        "            res_block=res_block,\n",
        "        )\n",
        "        self.decoder5 = UnetrUpBlock(\n",
        "            spatial_dims=3,\n",
        "            in_channels=hidden_size,\n",
        "            out_channels=feature_size * 8,\n",
        "            kernel_size=3,\n",
        "            upsample_kernel_size=2,\n",
        "            norm_name=norm_name,\n",
        "            res_block=res_block,\n",
        "        )\n",
        "        self.decoder4 = UnetrUpBlock(\n",
        "            spatial_dims=3,\n",
        "            in_channels=feature_size * 8,\n",
        "            out_channels=feature_size * 4,\n",
        "            kernel_size=3,\n",
        "            upsample_kernel_size=2,\n",
        "            norm_name=norm_name,\n",
        "            res_block=res_block,\n",
        "        )\n",
        "        self.decoder3 = UnetrUpBlock(\n",
        "            spatial_dims=3,\n",
        "            in_channels=feature_size * 4,\n",
        "            out_channels=feature_size * 2,\n",
        "            kernel_size=3,\n",
        "            upsample_kernel_size=2,\n",
        "            norm_name=norm_name,\n",
        "            res_block=res_block,\n",
        "        )\n",
        "        self.decoder2 = UnetrUpBlock(\n",
        "            spatial_dims=3,\n",
        "            in_channels=feature_size * 2,\n",
        "            out_channels=feature_size,\n",
        "            kernel_size=3,\n",
        "            upsample_kernel_size=2,\n",
        "            norm_name=norm_name,\n",
        "            res_block=res_block,\n",
        "        )\n",
        "        self.out = UnetOutBlock(spatial_dims=3, in_channels=feature_size, out_channels=out_channels)  # type: ignore\n",
        "\n",
        "    def proj_feat(self, x, hidden_size, feat_size):\n",
        "        x = x.view(x.size(0), feat_size[0], feat_size[1], feat_size[2], hidden_size)\n",
        "        x = x.permute(0, 4, 1, 2, 3).contiguous()\n",
        "        return x\n",
        "\n",
        "    def load_from(self, weights):\n",
        "        with torch.no_grad():\n",
        "            res_weight = weights\n",
        "            # copy weights from patch embedding\n",
        "            for i in weights[\"state_dict\"]:\n",
        "                print(i)\n",
        "            self.vit.patch_embedding.position_embeddings.copy_(\n",
        "                weights[\"state_dict\"][\"module.transformer.patch_embedding.position_embeddings_3d\"]\n",
        "            )\n",
        "            self.vit.patch_embedding.cls_token.copy_(\n",
        "                weights[\"state_dict\"][\"module.transformer.patch_embedding.cls_token\"]\n",
        "            )\n",
        "            self.vit.patch_embedding.patch_embeddings[1].weight.copy_(\n",
        "                weights[\"state_dict\"][\"module.transformer.patch_embedding.patch_embeddings.1.weight\"]\n",
        "            )\n",
        "            self.vit.patch_embedding.patch_embeddings[1].bias.copy_(\n",
        "                weights[\"state_dict\"][\"module.transformer.patch_embedding.patch_embeddings.1.bias\"]\n",
        "            )\n",
        "\n",
        "            # copy weights from  encoding blocks (default: num of blocks: 12)\n",
        "            for bname, block in self.vit.blocks.named_children():\n",
        "                print(block)\n",
        "                block.loadFrom(weights, n_block=bname)\n",
        "            # last norm layer of transformer\n",
        "            self.vit.norm.weight.copy_(weights[\"state_dict\"][\"module.transformer.norm.weight\"])\n",
        "            self.vit.norm.bias.copy_(weights[\"state_dict\"][\"module.transformer.norm.bias\"])\n",
        "\n",
        "    def forward(self, x_in):\n",
        "        x, hidden_states_out = self.vit(x_in)\n",
        "        enc1 = self.encoder1(x_in)\n",
        "        x2 = hidden_states_out[3]\n",
        "        enc2 = self.encoder2(self.proj_feat(x2, self.hidden_size, self.feat_size))\n",
        "        x3 = hidden_states_out[6]\n",
        "        enc3 = self.encoder3(self.proj_feat(x3, self.hidden_size, self.feat_size))\n",
        "        x4 = hidden_states_out[9]\n",
        "        enc4 = self.encoder4(self.proj_feat(x4, self.hidden_size, self.feat_size))\n",
        "        dec4 = self.proj_feat(x, self.hidden_size, self.feat_size)\n",
        "        dec3 = self.decoder5(dec4, enc4)\n",
        "        dec2 = self.decoder4(dec3, enc3)\n",
        "        dec1 = self.decoder3(dec2, enc2)\n",
        "        out = self.decoder2(dec1, enc1)\n",
        "        logits = self.out(out)\n",
        "        return logits"
      ],
      "metadata": {
        "id": "ooRbfGCxRttN"
      },
      "execution_count": 5,
      "outputs": []
    },
    {
      "cell_type": "markdown",
      "source": [
        "# Data Generator"
      ],
      "metadata": {
        "id": "U6uSCt9REs5B"
      }
    },
    {
      "cell_type": "code",
      "source": [
        "import torch\n",
        "import nibabel as nib\n",
        "import numpy as np\n",
        "import os\n",
        "import cv2\n",
        "import glob\n",
        "import torchvision.transforms as transforms\n",
        "from monai.transforms.spatial.array import Spacing \n",
        "from monai.transforms.intensity.array import NormalizeIntensity, ScaleIntensity"
      ],
      "metadata": {
        "execution": {
          "iopub.status.busy": "2023-03-16T23:22:16.375825Z",
          "iopub.execute_input": "2023-03-16T23:22:16.376162Z",
          "iopub.status.idle": "2023-03-16T23:22:17.814298Z",
          "shell.execute_reply.started": "2023-03-16T23:22:16.376134Z",
          "shell.execute_reply": "2023-03-16T23:22:17.813292Z"
        },
        "trusted": true,
        "id": "FXRZkhe0Es5B"
      },
      "execution_count": 6,
      "outputs": []
    },
    {
      "cell_type": "code",
      "source": [
        "# device = \"cuda\" if torch.cuda.is_available() else \"cpu\""
      ],
      "metadata": {
        "id": "HmR5eyycJ05w"
      },
      "execution_count": 7,
      "outputs": []
    },
    {
      "cell_type": "code",
      "source": [
        "class BTSDataset(torch.utils.data.Dataset):\n",
        "    def __init__(self, patient_data_list_path, src_folder=None, no_classes=4):\n",
        "        if src_folder is not None:\n",
        "          patient_data_list = sorted(text_file_reader(os.path.join(src_folder, patient_data_list_path)))\n",
        "          patient_data_list = [os.path.join(src_folder, i) for i in patient_data_list]\n",
        "        else:\n",
        "          patient_data_list = sorted(text_file_reader(patient_data_list_path))\n",
        "        self.patient_flair_scans_list = [glob.glob(os.path.join(i, \"*_flair.nii.gz\"))[0] for i in patient_data_list]\n",
        "        self.patient_t1ce_scans_list = [glob.glob(os.path.join(i, \"*_t1ce.nii.gz\"))[0] for i in patient_data_list]\n",
        "        self.patient_t2_scans_list = [glob.glob(os.path.join(i, \"*_t2.nii.gz\"))[0] for i in patient_data_list]\n",
        "        self.patient_seg_scans_list = [glob.glob(os.path.join(i, \"*_seg.nii.gz\"))[0] for i in patient_data_list]\n",
        "        self.normalizer = ScaleIntensity()\n",
        "        self.no_classes = no_classes\n",
        "\n",
        "    def __len__(self):\n",
        "        return len(self.patient_flair_scans_list)\n",
        "\n",
        "    def __getitem__(self, idx):\n",
        "        t1ce = self.normalizer(torch.Tensor(np.asarray(nib.load(self.patient_t1ce_scans_list[idx]).get_fdata())[:, :, 5: -6]))\n",
        "        t2 = self.normalizer(torch.Tensor(np.asarray(nib.load(self.patient_t2_scans_list[idx]).get_fdata())[:, :, 5: -6]))\n",
        "        flair = self.normalizer(torch.Tensor(np.asarray(nib.load(self.patient_flair_scans_list[idx]).get_fdata())[:, :, 5: -6]))\n",
        "        stacked = torch.stack([t1ce, t2, flair])\n",
        "        stacked = Spacing(pixdim=(1.875, 1.875, 1), mode=\"bilinear\")(stacked)\n",
        "        seg_lbl = np.asarray(nib.load(self.patient_seg_scans_list[idx]).get_fdata())[:, :, 5: -6]\n",
        "        seg_lbl[seg_lbl == 4] = 3\n",
        "        seg_lbl = Spacing(pixdim=(1.875, 1.875, 1), mode=\"nearest\")(seg_lbl[np.newaxis, :, :, :])\n",
        "        return stacked.to(torch.float32), seg_lbl.to(torch.float32)"
      ],
      "metadata": {
        "execution": {
          "iopub.status.busy": "2023-03-16T23:22:17.816350Z",
          "iopub.execute_input": "2023-03-16T23:22:17.816753Z",
          "iopub.status.idle": "2023-03-16T23:22:17.826966Z",
          "shell.execute_reply.started": "2023-03-16T23:22:17.816728Z",
          "shell.execute_reply": "2023-03-16T23:22:17.825931Z"
        },
        "trusted": true,
        "id": "ur74N--UEs5B"
      },
      "execution_count": 8,
      "outputs": []
    },
    {
      "cell_type": "code",
      "source": [
        "# path = \"/content/drive/MyDrive/Personal/MS/Brain_Tumor_segmentaion3D/dataset/BraTS2021_Training_Data\"\n",
        "# folder_list = sorted(glob.glob(os.path.join(path, \"*\")))\n",
        "# folder_list = [i for i in folder_list if os.path.isdir(i)]\n",
        "# folder_list.pop(354)"
      ],
      "metadata": {
        "execution": {
          "iopub.status.busy": "2023-03-16T23:22:17.829949Z",
          "iopub.execute_input": "2023-03-16T23:22:17.830268Z",
          "iopub.status.idle": "2023-03-16T23:22:17.887421Z",
          "shell.execute_reply.started": "2023-03-16T23:22:17.830230Z",
          "shell.execute_reply": "2023-03-16T23:22:17.886111Z"
        },
        "trusted": true,
        "id": "O-6JhRUJEs5B"
      },
      "execution_count": null,
      "outputs": []
    },
    {
      "cell_type": "code",
      "source": [
        "# src_folder = \"/content/drive/MyDrive/Personal/MS/Brain_Tumor_segmentaion3D\"\n",
        "# folder_list_path = \"/content/drive/MyDrive/Personal/MS/Brain_Tumor_segmentaion3D/dataset/lists/sample_100.txt\"\n",
        "# # patient_data_list = sorted(text_file_reader(folder_list_path))\n",
        "# # patient_data_list = [os.path.join(src_folder, i) for i in patient_data_list]\n",
        "# dataset = BTSDataset(folder_list_path, src_folder)"
      ],
      "metadata": {
        "execution": {
          "iopub.status.busy": "2023-03-16T23:22:19.222250Z",
          "iopub.execute_input": "2023-03-16T23:22:19.223679Z",
          "iopub.status.idle": "2023-03-16T23:22:21.085973Z",
          "shell.execute_reply.started": "2023-03-16T23:22:19.223636Z",
          "shell.execute_reply": "2023-03-16T23:22:21.085260Z"
        },
        "trusted": true,
        "id": "ihVZmy4qEs5B"
      },
      "execution_count": null,
      "outputs": []
    },
    {
      "cell_type": "code",
      "source": [
        "# ex_idx = 0\n",
        "# ex_img, ex_label = dataset[ex_idx]\n",
        "# ex_img.shape, ex_label.shape"
      ],
      "metadata": {
        "execution": {
          "iopub.status.busy": "2023-03-16T23:22:21.089465Z",
          "iopub.execute_input": "2023-03-16T23:22:21.090442Z",
          "iopub.status.idle": "2023-03-16T23:22:22.090807Z",
          "shell.execute_reply.started": "2023-03-16T23:22:21.090404Z",
          "shell.execute_reply": "2023-03-16T23:22:22.089945Z"
        },
        "trusted": true,
        "id": "FDK_wANmEs5B"
      },
      "execution_count": null,
      "outputs": []
    },
    {
      "cell_type": "markdown",
      "source": [
        "# Training setup"
      ],
      "metadata": {
        "id": "gMJthQ9gEs5B"
      }
    },
    {
      "cell_type": "code",
      "source": [
        "from tqdm import tqdm\n",
        "import torch\n",
        "import os\n",
        "import numpy as np\n",
        "from monai.losses import DiceLoss\n",
        "\n",
        "\n",
        "device = \"cuda\" if torch.cuda.is_available() else \"cpu\"\n",
        "os.environ[\"KMP_DUPLICATE_LIB_OK\"] = 'True'\n",
        "\n",
        "\n",
        "class Trainer:\n",
        "    def __init__(self, model, loss, optimizer, number_of_epochs, weights_save_folder):\n",
        "        self.loss = instantiate_attribute(loss[\"path\"])(**loss[\"params\"])\n",
        "        # self.loss = DiceLoss(to_onehot_y=True, include_background=True, softmax=True)\n",
        "        self.number_of_epochs = number_of_epochs\n",
        "        self.model = model\n",
        "        self.model.to(\"cuda\")\n",
        "        self.optimizer = instantiate_attribute(optimizer[\"path\"])(self.model.parameters(), **optimizer[\"params\"])\n",
        "        self.best_model_weights = None\n",
        "        self.weights_save_folder = weights_save_folder\n",
        "        check_path(self.weights_save_folder)\n",
        "\n",
        "    def __call__(self, training_dataloader, validation_dataloader):\n",
        "        average_val_loss = 10 ** 6\n",
        "        for i in range(self.number_of_epochs):\n",
        "            print(\"Epoch number: \", i)\n",
        "            training_loss = []\n",
        "            for image, label in tqdm(training_dataloader):\n",
        "                self.optimizer.zero_grad()\n",
        "                probabilities = self.model(image.cuda().to(device))\n",
        "                loss = self.loss(probabilities, label.cuda().to(device))\n",
        "                loss.backward()\n",
        "                self.optimizer.step()\n",
        "                training_loss.append(loss.detach().cpu())\n",
        "            print(\"Average training loss: \", np.average(training_loss))\n",
        "            validation_loss = []\n",
        "            print(\"Validating now\")\n",
        "            for image, label in tqdm(validation_dataloader):\n",
        "                with torch.no_grad():\n",
        "                    image = image.cuda().to(device)\n",
        "                    label = label.cuda().to(device)\n",
        "                    probabilities = self.model(image)\n",
        "                    image = None\n",
        "                    torch.cuda.empty_cache()\n",
        "                    validation_loss.append(self.loss(probabilities, label).cpu())\n",
        "                    del probabilities, label\n",
        "            print(\"Average validation loss: \", np.average(validation_loss))\n",
        "            if np.average(validation_loss) < average_val_loss:\n",
        "                self.best_model_weights = self.model.state_dict()\n",
        "                average_val_loss = np.average(validation_loss)\n",
        "                torch.save(self.model.state_dict(), os.path.join(self.weights_save_folder, 'model_weights_%d.pth' % i))\n",
        "        return self.best_model_weights, self.model.to(\"cpu\")\n"
      ],
      "metadata": {
        "id": "vDb5ERXDEs5B"
      },
      "execution_count": null,
      "outputs": []
    },
    {
      "cell_type": "markdown",
      "source": [
        "# Evaluation"
      ],
      "metadata": {
        "id": "Pr3GqZQWEs5C"
      }
    },
    {
      "cell_type": "code",
      "source": [
        "import numpy as np\n",
        "import torch\n",
        "from torchmetrics import JaccardIndex\n",
        "from torchmetrics import ConfusionMatrix\n",
        "from tqdm import tqdm\n",
        "import matplotlib.pyplot as plt\n",
        "import pandas as pd"
      ],
      "metadata": {
        "id": "zfdkzVWzD7Ft"
      },
      "execution_count": 29,
      "outputs": []
    },
    {
      "cell_type": "code",
      "source": [
        "device = \"cuda\" if torch.cuda.is_available() else \"cpu\""
      ],
      "metadata": {
        "id": "dxJxE3l4Iz0I"
      },
      "execution_count": 10,
      "outputs": []
    },
    {
      "cell_type": "code",
      "source": [
        "def generate_predictions(model, test_dataloader):\n",
        "    model.to(device)\n",
        "    confmat = torch.zeros((4, 4))\n",
        "    iou_scores = []\n",
        "    iou_computer = JaccardIndex(task=\"multiclass\", num_classes=4, average=\"macro\")\n",
        "    confusion_matrix_computer = ConfusionMatrix(task=\"multiclass\", num_classes=4)\n",
        "    with torch.no_grad():\n",
        "        for image, label in tqdm(test_dataloader):\n",
        "            image = image.to(device)\n",
        "            label = label[0]\n",
        "            probabilities = model(image)\n",
        "            probabilities = np.argmax(probabilities, 1)\n",
        "            # print(probabilities.shape, label.shape)\n",
        "            iou_scores.append(iou_computer(torch.Tensor(probabilities), label))\n",
        "            confmat += confusion_matrix_computer(torch.Tensor(probabilities), label) \n",
        "    return iou_scores, confmat\n"
      ],
      "metadata": {
        "id": "UTUFqx8aEs5C"
      },
      "execution_count": 11,
      "outputs": []
    },
    {
      "cell_type": "code",
      "source": [
        "config_path = \"/content/drive/MyDrive/ECE542/Brain_Tumor_segmentaion3D/source_code/configs/unetr_fullscale_training_ncsu.yaml\"\n",
        "with open(config_path, \"r\") as f:\n",
        "    config = yaml.safe_load(f)"
      ],
      "metadata": {
        "id": "usNcRisdCgCq"
      },
      "execution_count": 12,
      "outputs": []
    },
    {
      "cell_type": "code",
      "source": [
        "model_weights = \"/content/model_weights_4.pth\"\n",
        "model = UNETR(**config[\"Model\"])\n",
        "model.load_state_dict(torch.load(model_weights, map_location=torch.device('cpu')))\n",
        "model.eval();"
      ],
      "metadata": {
        "id": "oJHpR1aqCeua"
      },
      "execution_count": 14,
      "outputs": []
    },
    {
      "cell_type": "code",
      "source": [
        "test_datagenerator = BTSDataset(**config[\"Test_Dataset\"])\n",
        "test_dataloader = torch.utils.data.DataLoader(test_datagenerator, batch_size=1,\n",
        "                                                    shuffle=False)"
      ],
      "metadata": {
        "id": "8XnKKInsKEix"
      },
      "execution_count": 15,
      "outputs": []
    },
    {
      "cell_type": "code",
      "source": [
        "iou_scores, confusion_matrix = generate_predictions(model, test_dataloader)"
      ],
      "metadata": {
        "id": "N_RgfyUgKH4p",
        "colab": {
          "base_uri": "https://localhost:8080/"
        },
        "outputId": "bf1115b1-6e7a-40aa-8aad-72a34e91e89f"
      },
      "execution_count": 16,
      "outputs": [
        {
          "output_type": "stream",
          "name": "stderr",
          "text": [
            "\r  0%|          | 0/251 [00:00<?, ?it/s]/usr/local/lib/python3.9/dist-packages/monai/transforms/spatial/array.py:570: UserWarning: `data_array` is not of type MetaTensor, assuming affine to be identity.\n",
            "  warnings.warn(\"`data_array` is not of type MetaTensor, assuming affine to be identity.\")\n",
            "100%|██████████| 251/251 [15:16<00:00,  3.65s/it]\n"
          ]
        }
      ]
    },
    {
      "cell_type": "code",
      "source": [
        "iou_scores_numpy = [i.numpy() for i in iou_scores]\n",
        "patient_names = [i.split(\"/\")[-2] for i in test_datagenerator.patient_seg_scans_list]\n",
        "iou_scores_pd = pd.DataFrame(columns=[\"Image_name\", \"Mean_IoU\"])\n",
        "iou_scores_pd[\"Image_name\"] = patient_names\n",
        "iou_scores_pd[\"Mean_IoU\"] = iou_scores_numpy\n",
        "iou_scores_pd.to_csv(\"/content/iou_scores.csv\")"
      ],
      "metadata": {
        "id": "Wf0mijz5gXIF"
      },
      "execution_count": 31,
      "outputs": []
    },
    {
      "cell_type": "code",
      "source": [
        "columns = [\"label_%d_pred\" %i for i in range(4)]\n",
        "rows = [\"label_%d_gt\" %i for i in range(4)]\n",
        "confmat_pd = pd.DataFrame(np.asarray(confusion_matrix, np.int32), index=rows, columns=columns).T\n",
        "confmat_pd.to_csv(\"/content/confmat.csv\")"
      ],
      "metadata": {
        "id": "PSEz-g_7Cgqv"
      },
      "execution_count": 40,
      "outputs": []
    },
    {
      "cell_type": "markdown",
      "source": [
        "# Experiments"
      ],
      "metadata": {
        "id": "te44s1acQy1x"
      }
    },
    {
      "cell_type": "code",
      "source": [
        "if not os.path.exists(\"/content/Experiemnts\"):\n",
        "  os.mkdir(\"/content/Experiemnts\")\n",
        "if not os.path.exists(\"/content/Experiemnts/test\"):\n",
        "  os.mkdir(\"/content/Experiemnts/test\")"
      ],
      "metadata": {
        "id": "sIzjwmnbSlxO"
      },
      "execution_count": null,
      "outputs": []
    },
    {
      "cell_type": "code",
      "source": [
        "# config_path = \"/content/drive/MyDrive/Personal/MS/Brain_Tumor_segmentaion3D/source_code/configs/overfitting_test.yaml\"\n",
        "config_path = \"/content/drive/MyDrive/ECE542/Brain_Tumor_segmentaion3D/source_code/configs/unetr_fullscale_training_ncsu.yaml\"\n",
        "with open(config_path, \"r\") as f:\n",
        "    config = yaml.safe_load(f)"
      ],
      "metadata": {
        "id": "gJ4BPuBeQz9O"
      },
      "execution_count": null,
      "outputs": []
    },
    {
      "cell_type": "code",
      "source": [
        "model_weights = \"/content/model_weights.pth\"\n",
        "model = UNETR(**config[\"Model\"])\n",
        "model.load_state_dict(torch.load(model_weights, map_location=torch.device('cpu')))\n",
        "model.eval();"
      ],
      "metadata": {
        "id": "v47LkWRnSPiJ"
      },
      "execution_count": null,
      "outputs": []
    },
    {
      "cell_type": "code",
      "source": [
        "training_datagenerator = BTSDataset(**config[\"Training_Dataset\"])\n",
        "training_dataloader = torch.utils.data.DataLoader(training_datagenerator, batch_size=3,\n",
        "                                                  shuffle=True)"
      ],
      "metadata": {
        "id": "BSa5VpZ9SRrU"
      },
      "execution_count": null,
      "outputs": []
    },
    {
      "cell_type": "code",
      "source": [
        "validation_datagenerator = BTSDataset(**config[\"Validation_Dataset\"])\n",
        "validation_dataloader = torch.utils.data.DataLoader(validation_datagenerator, batch_size=3,\n",
        "                                                    shuffle=False)"
      ],
      "metadata": {
        "id": "5a-sR8poeHfm"
      },
      "execution_count": null,
      "outputs": []
    },
    {
      "cell_type": "code",
      "source": [
        "trainer = Trainer(**config[\"Trainer\"], model=model, weights_save_folder=config[\"save_folder\"])"
      ],
      "metadata": {
        "id": "uRpuEXZMSXRK"
      },
      "execution_count": null,
      "outputs": []
    },
    {
      "cell_type": "code",
      "source": [
        "model_weights, trained_model = trainer(training_dataloader, validation_dataloader)"
      ],
      "metadata": {
        "id": "45q-u95OXRtq",
        "colab": {
          "base_uri": "https://localhost:8080/"
        },
        "outputId": "c4cffb21-5180-4e7a-babb-b7eeb0185131"
      },
      "execution_count": null,
      "outputs": [
        {
          "output_type": "stream",
          "name": "stdout",
          "text": [
            "Epoch number:  0\n"
          ]
        },
        {
          "output_type": "stream",
          "name": "stderr",
          "text": [
            "\r  0%|          | 0/267 [00:00<?, ?it/s]/usr/local/lib/python3.9/dist-packages/monai/transforms/spatial/array.py:570: UserWarning: `data_array` is not of type MetaTensor, assuming affine to be identity.\n",
            "  warnings.warn(\"`data_array` is not of type MetaTensor, assuming affine to be identity.\")\n",
            "100%|██████████| 267/267 [56:58<00:00, 12.80s/it]\n"
          ]
        },
        {
          "output_type": "stream",
          "name": "stdout",
          "text": [
            "Average training loss:  0.7148307\n",
            "Validating now\n"
          ]
        },
        {
          "output_type": "stream",
          "name": "stderr",
          "text": [
            "100%|██████████| 67/67 [11:14<00:00, 10.07s/it]\n"
          ]
        },
        {
          "output_type": "stream",
          "name": "stdout",
          "text": [
            "Average validation loss:  0.513621\n",
            "Epoch number:  1\n"
          ]
        },
        {
          "output_type": "stream",
          "name": "stderr",
          "text": [
            "100%|██████████| 267/267 [37:34<00:00,  8.44s/it]\n"
          ]
        },
        {
          "output_type": "stream",
          "name": "stdout",
          "text": [
            "Average training loss:  0.42836246\n",
            "Validating now\n"
          ]
        },
        {
          "output_type": "stream",
          "name": "stderr",
          "text": [
            "100%|██████████| 67/67 [06:27<00:00,  5.78s/it]\n"
          ]
        },
        {
          "output_type": "stream",
          "name": "stdout",
          "text": [
            "Average validation loss:  0.35384768\n",
            "Epoch number:  2\n"
          ]
        },
        {
          "output_type": "stream",
          "name": "stderr",
          "text": [
            "100%|██████████| 267/267 [37:50<00:00,  8.50s/it]\n"
          ]
        },
        {
          "output_type": "stream",
          "name": "stdout",
          "text": [
            "Average training loss:  0.35673124\n",
            "Validating now\n"
          ]
        },
        {
          "output_type": "stream",
          "name": "stderr",
          "text": [
            "100%|██████████| 67/67 [06:15<00:00,  5.61s/it]\n"
          ]
        },
        {
          "output_type": "stream",
          "name": "stdout",
          "text": [
            "Average validation loss:  0.317597\n",
            "Epoch number:  3\n"
          ]
        },
        {
          "output_type": "stream",
          "name": "stderr",
          "text": [
            "100%|██████████| 267/267 [36:57<00:00,  8.31s/it]\n"
          ]
        },
        {
          "output_type": "stream",
          "name": "stdout",
          "text": [
            "Average training loss:  0.33038843\n",
            "Validating now\n"
          ]
        },
        {
          "output_type": "stream",
          "name": "stderr",
          "text": [
            "100%|██████████| 67/67 [06:23<00:00,  5.73s/it]\n"
          ]
        },
        {
          "output_type": "stream",
          "name": "stdout",
          "text": [
            "Average validation loss:  0.30112296\n",
            "Epoch number:  4\n"
          ]
        },
        {
          "output_type": "stream",
          "name": "stderr",
          "text": [
            "100%|██████████| 267/267 [37:00<00:00,  8.31s/it]\n"
          ]
        },
        {
          "output_type": "stream",
          "name": "stdout",
          "text": [
            "Average training loss:  0.3155795\n",
            "Validating now\n"
          ]
        },
        {
          "output_type": "stream",
          "name": "stderr",
          "text": [
            "100%|██████████| 67/67 [06:18<00:00,  5.65s/it]\n"
          ]
        },
        {
          "output_type": "stream",
          "name": "stdout",
          "text": [
            "Average validation loss:  0.29524243\n",
            "Epoch number:  5\n"
          ]
        },
        {
          "output_type": "stream",
          "name": "stderr",
          "text": [
            "100%|██████████| 267/267 [37:37<00:00,  8.46s/it]\n"
          ]
        },
        {
          "output_type": "stream",
          "name": "stdout",
          "text": [
            "Average training loss:  0.30705905\n",
            "Validating now\n"
          ]
        },
        {
          "output_type": "stream",
          "name": "stderr",
          "text": [
            "100%|██████████| 67/67 [06:34<00:00,  5.89s/it]\n"
          ]
        },
        {
          "output_type": "stream",
          "name": "stdout",
          "text": [
            "Average validation loss:  0.28855884\n",
            "Epoch number:  6\n"
          ]
        },
        {
          "output_type": "stream",
          "name": "stderr",
          "text": [
            "100%|██████████| 267/267 [37:09<00:00,  8.35s/it]\n"
          ]
        },
        {
          "output_type": "stream",
          "name": "stdout",
          "text": [
            "Average training loss:  0.29707772\n",
            "Validating now\n"
          ]
        },
        {
          "output_type": "stream",
          "name": "stderr",
          "text": [
            "100%|██████████| 67/67 [06:42<00:00,  6.01s/it]\n"
          ]
        },
        {
          "output_type": "stream",
          "name": "stdout",
          "text": [
            "Average validation loss:  0.27668637\n",
            "Epoch number:  7\n"
          ]
        },
        {
          "output_type": "stream",
          "name": "stderr",
          "text": [
            " 60%|██████    | 161/267 [22:56<15:11,  8.60s/it]"
          ]
        }
      ]
    },
    {
      "cell_type": "markdown",
      "source": [
        "# data generator sanity check"
      ],
      "metadata": {
        "id": "oOQAU2eqWPBJ"
      }
    },
    {
      "cell_type": "code",
      "source": [
        "import matplotlib.pyplot as plt"
      ],
      "metadata": {
        "id": "1RCryaItcyIN"
      },
      "execution_count": null,
      "outputs": []
    },
    {
      "cell_type": "code",
      "source": [
        "config_path = \"/content/drive/MyDrive/Personal/MS/Brain_Tumor_segmentaion3D/source_code/configs/overfitting_test.yaml\"\n",
        "with open(config_path, \"r\") as f:\n",
        "    config = yaml.safe_load(f)"
      ],
      "metadata": {
        "id": "R3hF9fV5WlaT"
      },
      "execution_count": null,
      "outputs": []
    },
    {
      "cell_type": "code",
      "source": [
        "training_datagenerator = BTSDataset(**config[\"Training_Dataset\"])"
      ],
      "metadata": {
        "id": "9Y-5URREXGfL"
      },
      "execution_count": null,
      "outputs": []
    },
    {
      "cell_type": "code",
      "source": [
        "ex_img, ex_lbl = training_datagenerator[0]\n",
        "ex_img.shape, ex_lbl.shape, training_datagenerator.patient_seg_scans_list[0]"
      ],
      "metadata": {
        "colab": {
          "base_uri": "https://localhost:8080/"
        },
        "id": "o6WD_nPoXklf",
        "outputId": "7d5be6e1-33f9-43d7-95c0-ae578e87035b"
      },
      "execution_count": null,
      "outputs": [
        {
          "output_type": "stream",
          "name": "stderr",
          "text": [
            "/usr/local/lib/python3.9/dist-packages/monai/transforms/spatial/array.py:570: UserWarning: `data_array` is not of type MetaTensor, assuming affine to be identity.\n",
            "  warnings.warn(\"`data_array` is not of type MetaTensor, assuming affine to be identity.\")\n"
          ]
        },
        {
          "output_type": "execute_result",
          "data": {
            "text/plain": [
              "((3, 128, 128, 144),\n",
              " (1, 128, 128, 144),\n",
              " '/content/drive/MyDrive/Personal/MS/Brain_Tumor_segmentaion3D/dataset/BRaTS2021_Training_Data/BraTS2021_00063/BraTS2021_00063_seg.nii.gz')"
            ]
          },
          "metadata": {},
          "execution_count": 12
        }
      ]
    },
    {
      "cell_type": "code",
      "source": [
        "ex_lbl_numpy = np.asarray(ex_lbl.numpy(), dtype=np.uint8)\n",
        "# np.unique(ex_lbl_numpy, return_counts=True)\n",
        "# ex_lbl_numpy = np.argmax(ex_lbl_numpy, axis=0)\n",
        "ex_lbl_numpy.shape\n",
        "np.unique(ex_lbl_numpy, return_counts=True)"
      ],
      "metadata": {
        "colab": {
          "base_uri": "https://localhost:8080/"
        },
        "id": "uo18um4oYPmw",
        "outputId": "70fef6de-3d34-41fb-8241-f76d5ae71e19"
      },
      "execution_count": null,
      "outputs": [
        {
          "output_type": "execute_result",
          "data": {
            "text/plain": [
              "(array([0, 1, 2, 3], dtype=uint8), array([2352251,     219,    4051,    2775]))"
            ]
          },
          "metadata": {},
          "execution_count": 14
        }
      ]
    },
    {
      "cell_type": "code",
      "source": [
        "plt.imshow(ex_lbl_numpy[0, :, :, 108] == 3)"
      ],
      "metadata": {
        "colab": {
          "base_uri": "https://localhost:8080/",
          "height": 285
        },
        "id": "2j5n4OXAZEo5",
        "outputId": "409566ff-a885-4a55-d723-c8d769b37b84"
      },
      "execution_count": null,
      "outputs": [
        {
          "output_type": "execute_result",
          "data": {
            "text/plain": [
              "<matplotlib.image.AxesImage at 0x7f84cca97580>"
            ]
          },
          "metadata": {},
          "execution_count": 31
        },
        {
          "output_type": "display_data",
          "data": {
            "text/plain": [
              "<Figure size 432x288 with 1 Axes>"
            ],
            "image/png": "[encoded data removed]"
          },
          "metadata": {
            "needs_background": "light"
          }
        }
      ]
    },
    {
      "cell_type": "code",
      "source": [
        "ex_img_numpy = np.asarray(ex_img.numpy(), dtype=np.float32)\n",
        "np.histogram(ex_img_numpy[2, :, :, 108])\n",
        "plt.imshow(ex_img_numpy[2, :, :, 108])"
      ],
      "metadata": {
        "colab": {
          "base_uri": "https://localhost:8080/",
          "height": 285
        },
        "id": "vWJEdZhYb05S",
        "outputId": "561e13c7-07ef-475e-8115-e7455930445d"
      },
      "execution_count": null,
      "outputs": [
        {
          "output_type": "execute_result",
          "data": {
            "text/plain": [
              "<matplotlib.image.AxesImage at 0x7f84cd2c3790>"
            ]
          },
          "metadata": {},
          "execution_count": 24
        },
        {
          "output_type": "display_data",
          "data": {
            "text/plain": [
              "<Figure size 432x288 with 1 Axes>"
            ],
            "image/png": "[encoded data removed]"
          },
          "metadata": {
            "needs_background": "light"
          }
        }
      ]
    },
    {
      "cell_type": "code",
      "source": [
        "plt.imshow(ex_img_numpy[1, :, :, 108])"
      ],
      "metadata": {
        "colab": {
          "base_uri": "https://localhost:8080/",
          "height": 285
        },
        "id": "QRj7XN0OcNqm",
        "outputId": "199ccf7a-5d5d-405f-eea6-0cf7f8d27264"
      },
      "execution_count": null,
      "outputs": [
        {
          "output_type": "execute_result",
          "data": {
            "text/plain": [
              "<matplotlib.image.AxesImage at 0x7f84cccc85e0>"
            ]
          },
          "metadata": {},
          "execution_count": 25
        },
        {
          "output_type": "display_data",
          "data": {
            "text/plain": [
              "<Figure size 432x288 with 1 Axes>"
            ],
            "image/png": "[encoded data removed]"
          },
          "metadata": {
            "needs_background": "light"
          }
        }
      ]
    },
    {
      "cell_type": "code",
      "source": [
        "plt.imshow(ex_img_numpy[0, :, :, 108])"
      ],
      "metadata": {
        "colab": {
          "base_uri": "https://localhost:8080/",
          "height": 285
        },
        "id": "ldIJ2TizcmuQ",
        "outputId": "76c08bab-58b2-4430-a83c-2d86f4097387"
      },
      "execution_count": null,
      "outputs": [
        {
          "output_type": "execute_result",
          "data": {
            "text/plain": [
              "<matplotlib.image.AxesImage at 0x7f84cd2b5040>"
            ]
          },
          "metadata": {},
          "execution_count": 26
        },
        {
          "output_type": "display_data",
          "data": {
            "text/plain": [
              "<Figure size 432x288 with 1 Axes>"
            ],
            "image/png": "[encoded data removed]"
          },
          "metadata": {
            "needs_background": "light"
          }
        }
      ]
    },
    {
      "cell_type": "code",
      "source": [],
      "metadata": {
        "id": "y1qRFyUzcoGa"
      },
      "execution_count": null,
      "outputs": []
    },
    {
      "cell_type": "markdown",
      "source": [
        "# Model predictions sanity check"
      ],
      "metadata": {
        "id": "kcwORuCbKMqH"
      }
    },
    {
      "cell_type": "code",
      "source": [
        "import matplotlib.pyplot as plt\n",
        "import torch\n",
        "from ipywidgets import interact"
      ],
      "metadata": {
        "id": "rLCNrN4JLEFM"
      },
      "execution_count": null,
      "outputs": []
    },
    {
      "cell_type": "code",
      "source": [
        "# config_path = \"/content/drive/MyDrive/Personal/MS/Brain_Tumor_segmentaion3D/source_code/configs/overfitting_test.yaml\"\n",
        "# config_path = \"/content/drive/MyDrive/ECE542/Brain_Tumor_segmentaion3D/source_code/configs/overfitting_test.yaml\"\n",
        "config_path = \"/content/drive/MyDrive/ECE542/Brain_Tumor_segmentaion3D/source_code/configs/unetr_fullscale_training_ncsu.yaml\"\n",
        "with open(config_path, \"r\") as f:\n",
        "    config = yaml.safe_load(f)"
      ],
      "metadata": {
        "id": "nmHhjXexKOsV"
      },
      "execution_count": null,
      "outputs": []
    },
    {
      "cell_type": "code",
      "source": [
        "device = \"cuda\" if torch.cuda.is_available() else \"cpu\""
      ],
      "metadata": {
        "id": "tNLr9I9CNumO"
      },
      "execution_count": null,
      "outputs": []
    },
    {
      "cell_type": "code",
      "source": [
        "model_weights = \"/content/model_weights_4.pth\"\n",
        "model = UNETR(**config[\"Model\"])\n",
        "model.load_state_dict(torch.load(model_weights, map_location=\"cpu\"))\n",
        "model.eval();"
      ],
      "metadata": {
        "id": "1iffJuiaKQgV"
      },
      "execution_count": null,
      "outputs": []
    },
    {
      "cell_type": "code",
      "source": [
        "test_datagenerator = BTSDataset(**config[\"Test_Dataset\"])"
      ],
      "metadata": {
        "id": "IW1szBCfKXkG"
      },
      "execution_count": null,
      "outputs": []
    },
    {
      "cell_type": "code",
      "source": [
        "ex_img, ex_lbl = test_datagenerator[0]\n",
        "ex_img.shape, ex_lbl.shape"
      ],
      "metadata": {
        "colab": {
          "base_uri": "https://localhost:8080/"
        },
        "id": "2eCjdG14Kv80",
        "outputId": "fed91113-bdf0-476b-87e2-20391bd13183"
      },
      "execution_count": null,
      "outputs": [
        {
          "output_type": "stream",
          "name": "stderr",
          "text": [
            "/usr/local/lib/python3.9/dist-packages/monai/transforms/spatial/array.py:570: UserWarning: `data_array` is not of type MetaTensor, assuming affine to be identity.\n",
            "  warnings.warn(\"`data_array` is not of type MetaTensor, assuming affine to be identity.\")\n"
          ]
        },
        {
          "output_type": "execute_result",
          "data": {
            "text/plain": [
              "((3, 128, 128, 144), (1, 128, 128, 144))"
            ]
          },
          "metadata": {},
          "execution_count": 12
        }
      ]
    },
    {
      "cell_type": "code",
      "source": [
        "class VisualizePredictionSanity:\n",
        "    def __init__(self, img, lbl, model):\n",
        "        with torch.no_grad():\n",
        "          model.to(device)\n",
        "          self.prediction = model(img.unsqueeze(0).to(device))\n",
        "          self.prediction = self.prediction.squeeze()\n",
        "          self.prediction = np.argmax(self.prediction, axis=0)\n",
        "        self.scans = [lbl.squeeze(), self.prediction]\n",
        "        self.fig = plt.figure(figsize=(1, 1));\n",
        "    \n",
        "    def visualize_brain_scans(self, idx):\n",
        "        def create_display(layer):\n",
        "            self.fig.add_subplot(2, 1, idx + 1)\n",
        "            plt.imshow(scans_i[:, :, layer], cmap=\"BuPu\");\n",
        "            plt.axis('off')\n",
        "            return layer\n",
        "        scans_i = self.scans[idx]\n",
        "        interact(create_display, layer=(0, scans_i.shape[2] - 1));\n",
        "\n",
        "    def __call__(self, idx):        \n",
        "        self.visualize_brain_scans(idx)"
      ],
      "metadata": {
        "id": "ANz52p6dRhWT"
      },
      "execution_count": null,
      "outputs": []
    },
    {
      "cell_type": "code",
      "source": [
        "visualizer = VisualizePredictionSanity(ex_img, ex_lbl, model)\n",
        "visualizer(0)"
      ],
      "metadata": {
        "colab": {
          "base_uri": "https://localhost:8080/",
          "height": 315,
          "referenced_widgets": [
            "b98efe1a2cde4e9f88dbea3c63035b00",
            "efd77283973746118ca66baaa1d1fe62",
            "f389f7030a234cca8c231fd818a7b1de",
            "9169defeaf134a9183e6d5200645ef1d",
            "bd42b847b9d94c0891d9f5a2968782d6",
            "e7cf8ee3ba0b4eeaaea024f350fa9ee8",
            "307146d435004d3c8b6d4dd489382ca9"
          ]
        },
        "id": "RYJMCzxjVwH3",
        "outputId": "d7ac768f-072b-441e-beee-7fa1012c96a0"
      },
      "execution_count": null,
      "outputs": [
        {
          "output_type": "display_data",
          "data": {
            "text/plain": [
              "<Figure size 72x72 with 0 Axes>"
            ]
          },
          "metadata": {}
        },
        {
          "output_type": "display_data",
          "data": {
            "text/plain": [
              "interactive(children=(IntSlider(value=71, description='layer', max=143), Output()), _dom_classes=('widget-inte…"
            ],
            "application/vnd.jupyter.widget-view+json": {
              "version_major": 2,
              "version_minor": 0,
              "model_id": "b98efe1a2cde4e9f88dbea3c63035b00"
            }
          },
          "metadata": {}
        }
      ]
    },
    {
      "cell_type": "code",
      "source": [
        "visualizer2 = VisualizePredictionSanity(ex_img, ex_lbl, model)\n",
        "visualizer2(1)"
      ],
      "metadata": {
        "colab": {
          "base_uri": "https://localhost:8080/",
          "height": 315,
          "referenced_widgets": [
            "0294da234b3d4312b102ff678891e2eb",
            "67489cad4c564c5180113a5ab01776dd",
            "17a8774496d348448bdc1938a25e3837",
            "20f0975a9e9642da8dce5327fab49587",
            "5ddba5c812c04eabb1d03413cb168c25",
            "fc9ad27622da477cb9ca2d71b26d9539",
            "809e0b0b31e047fdb8533caec9f70afa"
          ]
        },
        "id": "BR4L8OGAQ-9p",
        "outputId": "731a37e2-b233-49ac-9c74-41c0f589900b"
      },
      "execution_count": null,
      "outputs": [
        {
          "output_type": "display_data",
          "data": {
            "text/plain": [
              "<Figure size 72x72 with 0 Axes>"
            ]
          },
          "metadata": {}
        },
        {
          "output_type": "display_data",
          "data": {
            "text/plain": [
              "interactive(children=(IntSlider(value=71, description='layer', max=143), Output()), _dom_classes=('widget-inte…"
            ],
            "application/vnd.jupyter.widget-view+json": {
              "version_major": 2,
              "version_minor": 0,
              "model_id": "0294da234b3d4312b102ff678891e2eb"
            }
          },
          "metadata": {}
        }
      ]
    },
    {
      "cell_type": "code",
      "source": [
        "np.unique(visualizer2.prediction, return_counts=True), (np.unique(ex_lbl, return_counts=True))"
      ],
      "metadata": {
        "colab": {
          "base_uri": "https://localhost:8080/"
        },
        "id": "ZRbH39nMgYLa",
        "outputId": "b58e4b37-fd85-45cf-8376-b3f566e80085"
      },
      "execution_count": null,
      "outputs": [
        {
          "output_type": "execute_result",
          "data": {
            "text/plain": [
              "((array([0, 1, 2, 3]), array([2338387,    1651,   12055,    7203])),\n",
              " (array([0., 1., 2., 3.], dtype=float32),\n",
              "  array([2338102,    3092,   14573,    3529])))"
            ]
          },
          "metadata": {},
          "execution_count": 32
        }
      ]
    },
    {
      "cell_type": "code",
      "source": [
        "from torchmetrics import JaccardIndex\n",
        "from torchmetrics import ConfusionMatrix"
      ],
      "metadata": {
        "id": "5B3jNyewBVJc"
      },
      "execution_count": null,
      "outputs": []
    },
    {
      "cell_type": "code",
      "source": [
        "iou_computer = JaccardIndex(task=\"multiclass\", num_classes=4, average=\"macro\")\n",
        "iou_computer(torch.Tensor(visualizer2.prediction), ex_lbl.squeeze())"
      ],
      "metadata": {
        "colab": {
          "base_uri": "https://localhost:8080/"
        },
        "id": "wTSKwxSnEQcr",
        "outputId": "41267d27-90eb-4f49-feb3-0c5e99534d77"
      },
      "execution_count": null,
      "outputs": [
        {
          "output_type": "execute_result",
          "data": {
            "text/plain": [
              "tensor(0.6472)\n",
              "Metadata\n",
              "\taffine: tensor([[1.8750, 0.0000, 0.0000, 0.0000],\n",
              "        [0.0000, 1.8750, 0.0000, 0.0000],\n",
              "        [0.0000, 0.0000, 1.0000, 0.0000],\n",
              "        [0.0000, 0.0000, 0.0000, 1.0000]], dtype=torch.float64)\n",
              "\tspace: RAS\n",
              "\n",
              "Applied operations\n",
              "[ { class: 'SpatialResample',\n",
              "    extra_info: { 'align_corners': False,\n",
              "                  'dtype': 'float64',\n",
              "                  'mode': 'nearest',\n",
              "                  'padding_mode': 'border',\n",
              "                  'src_affine': tensor([[1., 0., 0., 0.],\n",
              "        [0., 1., 0., 0.],\n",
              "        [0., 0., 1., 0.],\n",
              "        [0., 0., 0., 1.]], dtype=torch.float64)},\n",
              "    id: 140570901056864,\n",
              "    orig_size: (240, 240, 144)}]\n",
              "Is batch?: False"
            ]
          },
          "metadata": {},
          "execution_count": 57
        }
      ]
    },
    {
      "cell_type": "code",
      "source": [
        "confusion_matrix_computer = ConfusionMatrix(task=\"multiclass\", num_classes=4)\n",
        "confusion_matrix = confusion_matrix_computer(torch.Tensor(visualizer2.prediction), ex_lbl.squeeze())"
      ],
      "metadata": {
        "id": "lRJDIOq_Eioz"
      },
      "execution_count": null,
      "outputs": []
    },
    {
      "cell_type": "code",
      "source": [
        "confusion_matrix"
      ],
      "metadata": {
        "colab": {
          "base_uri": "https://localhost:8080/"
        },
        "id": "O8pRiqL4IeRw",
        "outputId": "2954f5ea-823c-4abd-cd15-fc696a1b9888"
      },
      "execution_count": null,
      "outputs": [
        {
          "output_type": "execute_result",
          "data": {
            "text/plain": [
              "tensor([[2335998,      11,    1724,     369],\n",
              "        [      0,    1569,     158,    1365],\n",
              "        [   2388,      52,   10148,    1985],\n",
              "        [      1,      19,      25,    3484]])\n",
              "Metadata\n",
              "\taffine: tensor([[1.8750, 0.0000, 0.0000, 0.0000],\n",
              "        [0.0000, 1.8750, 0.0000, 0.0000],\n",
              "        [0.0000, 0.0000, 1.0000, 0.0000],\n",
              "        [0.0000, 0.0000, 0.0000, 1.0000]], dtype=torch.float64)\n",
              "\tspace: RAS\n",
              "\n",
              "Applied operations\n",
              "[ { class: 'SpatialResample',\n",
              "    extra_info: { 'align_corners': False,\n",
              "                  'dtype': 'float64',\n",
              "                  'mode': 'nearest',\n",
              "                  'padding_mode': 'border',\n",
              "                  'src_affine': tensor([[1., 0., 0., 0.],\n",
              "        [0., 1., 0., 0.],\n",
              "        [0., 0., 1., 0.],\n",
              "        [0., 0., 0., 1.]], dtype=torch.float64)},\n",
              "    id: 140570901056864,\n",
              "    orig_size: (240, 240, 144)}]\n",
              "Is batch?: False"
            ]
          },
          "metadata": {},
          "execution_count": 59
        }
      ]
    },
    {
      "cell_type": "code",
      "source": [],
      "metadata": {
        "id": "90SDwMYDIjAb"
      },
      "execution_count": null,
      "outputs": []
    }
  ]
}